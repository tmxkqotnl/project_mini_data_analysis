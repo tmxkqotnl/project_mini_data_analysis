{
 "cells": [
  {
   "cell_type": "markdown",
   "metadata": {},
   "source": [
    "![poster](./data/3.유동인구.png)"
   ]
  },
  {
   "cell_type": "markdown",
   "metadata": {},
   "source": [
    "## 유동인구와 상권의 상관관계"
   ]
  },
  {
   "cell_type": "markdown",
   "metadata": {},
   "source": [
    "**<3. 유동인구와 상권의 상관관계>**\n",
    "1. https://sg.sbiz.or.kr/godo/index.sg\n",
    "    유동인구 csv\n",
    "2. https://www.data.go.kr/data/15041102/fileData.do\n",
    "    대구 지하철역 csv\n",
    "3. https://www.data.go.kr/data/15083033/fileData.do\n",
    "    소상공인 상권정보 csv"
   ]
  },
  {
   "cell_type": "markdown",
   "metadata": {},
   "source": [
    "## 문제정의\n",
    "- 유동인구가 많은 지역을 찾아라(구 또는 동 수준)\n",
    "- 교통시설(버스 정류장, 지하철 역) 주변의 유동인구를 비교분석하라.\n",
    "\n",
    "### 문제분석\n",
    "- 문제에서 제시한 시설 주변의 상권들의 특징을 파악해야 한다.\n",
    "- 주어진 시간이 적으므로 시간 집약적인 방법을 택한다.\n",
    "  \n",
    "## 문제해결 방법\n",
    "- 대표적인 샘플을 골라 데이터를 수집하고 분석한다.\n",
    "- 유동인구를 먼저 파악하고 점진적으로 추가적인 데이터를 분석한다.\n",
    "  - 동시에 데이터를 조합하여 유의미한 상관관계를 찾는다."
   ]
  },
  {
   "cell_type": "markdown",
   "metadata": {},
   "source": [
    "\n",
    "<br>\n",
    "\n",
    "# 시작하기❕"
   ]
  },
  {
   "cell_type": "code",
   "execution_count": 1,
   "metadata": {},
   "outputs": [],
   "source": [
    "# import libs\n",
    "from libs import *\n",
    "from matplotlib import font_manager, rc\n",
    "import matplotlib.pyplot as plt\n",
    "import seaborn as sns\n",
    "\n",
    "# get fonts\n",
    "font_path = \"C:/Windows/Fonts/NGULIM.TTF\"\n",
    "font_name = font_manager.FontProperties(fname=font_path).get_name()"
   ]
  },
  {
   "cell_type": "markdown",
   "metadata": {},
   "source": [
    "### 대구의 시간별 유동인구 데이터 🚶🚶‍♀️"
   ]
  },
  {
   "cell_type": "code",
   "execution_count": 2,
   "metadata": {},
   "outputs": [],
   "source": [
    "# 작업을 간소화하기 위해 함수 사용\n",
    "df_traffic:pd.DataFrame = get_dataframe('foot_traffic','대구_시간별.csv')"
   ]
  },
  {
   "cell_type": "code",
   "execution_count": 3,
   "metadata": {},
   "outputs": [
    {
     "name": "stdout",
     "output_type": "stream",
     "text": [
      "<class 'pandas.core.frame.DataFrame'>\n",
      "RangeIndex: 139 entries, 0 to 138\n",
      "Data columns (total 8 columns):\n",
      " #   Column   Non-Null Count  Dtype \n",
      "---  ------   --------------  ----- \n",
      " 0   구이름      139 non-null    object\n",
      " 1   동이름      139 non-null    object\n",
      " 2   00-06시   139 non-null    int64 \n",
      " 3   06-11시   139 non-null    int64 \n",
      " 4   11시-14시  139 non-null    int64 \n",
      " 5   14시-17시  139 non-null    int64 \n",
      " 6   17시-21시  139 non-null    int64 \n",
      " 7   21시-24시  139 non-null    int64 \n",
      "dtypes: int64(6), object(2)\n",
      "memory usage: 8.8+ KB\n"
     ]
    }
   ],
   "source": [
    "df_traffic.info()"
   ]
  },
  {
   "cell_type": "code",
   "execution_count": 4,
   "metadata": {},
   "outputs": [
    {
     "data": {
      "text/html": [
       "<div>\n",
       "<style scoped>\n",
       "    .dataframe tbody tr th:only-of-type {\n",
       "        vertical-align: middle;\n",
       "    }\n",
       "\n",
       "    .dataframe tbody tr th {\n",
       "        vertical-align: top;\n",
       "    }\n",
       "\n",
       "    .dataframe thead th {\n",
       "        text-align: right;\n",
       "    }\n",
       "</style>\n",
       "<table border=\"1\" class=\"dataframe\">\n",
       "  <thead>\n",
       "    <tr style=\"text-align: right;\">\n",
       "      <th></th>\n",
       "      <th>구이름</th>\n",
       "      <th>동이름</th>\n",
       "      <th>00-06시</th>\n",
       "      <th>06-11시</th>\n",
       "      <th>11시-14시</th>\n",
       "      <th>14시-17시</th>\n",
       "      <th>17시-21시</th>\n",
       "      <th>21시-24시</th>\n",
       "    </tr>\n",
       "  </thead>\n",
       "  <tbody>\n",
       "    <tr>\n",
       "      <th>0</th>\n",
       "      <td>동구</td>\n",
       "      <td>공산동</td>\n",
       "      <td>255</td>\n",
       "      <td>1712</td>\n",
       "      <td>1889</td>\n",
       "      <td>2141</td>\n",
       "      <td>2281</td>\n",
       "      <td>652</td>\n",
       "    </tr>\n",
       "    <tr>\n",
       "      <th>1</th>\n",
       "      <td>동구</td>\n",
       "      <td>도평동</td>\n",
       "      <td>197</td>\n",
       "      <td>1591</td>\n",
       "      <td>1492</td>\n",
       "      <td>1373</td>\n",
       "      <td>1326</td>\n",
       "      <td>339</td>\n",
       "    </tr>\n",
       "    <tr>\n",
       "      <th>2</th>\n",
       "      <td>동구</td>\n",
       "      <td>동촌동</td>\n",
       "      <td>371</td>\n",
       "      <td>926</td>\n",
       "      <td>667</td>\n",
       "      <td>675</td>\n",
       "      <td>919</td>\n",
       "      <td>412</td>\n",
       "    </tr>\n",
       "    <tr>\n",
       "      <th>3</th>\n",
       "      <td>동구</td>\n",
       "      <td>방촌동</td>\n",
       "      <td>5247</td>\n",
       "      <td>16292</td>\n",
       "      <td>13219</td>\n",
       "      <td>14170</td>\n",
       "      <td>18182</td>\n",
       "      <td>7123</td>\n",
       "    </tr>\n",
       "    <tr>\n",
       "      <th>4</th>\n",
       "      <td>동구</td>\n",
       "      <td>불로·봉무동</td>\n",
       "      <td>3835</td>\n",
       "      <td>14652</td>\n",
       "      <td>12919</td>\n",
       "      <td>12940</td>\n",
       "      <td>12947</td>\n",
       "      <td>3922</td>\n",
       "    </tr>\n",
       "    <tr>\n",
       "      <th>5</th>\n",
       "      <td>동구</td>\n",
       "      <td>신암1동</td>\n",
       "      <td>1247</td>\n",
       "      <td>4477</td>\n",
       "      <td>3333</td>\n",
       "      <td>3566</td>\n",
       "      <td>4780</td>\n",
       "      <td>1956</td>\n",
       "    </tr>\n",
       "  </tbody>\n",
       "</table>\n",
       "</div>"
      ],
      "text/plain": [
       "  구이름     동이름  00-06시  06-11시  11시-14시  14시-17시  17시-21시  21시-24시\n",
       "0  동구     공산동     255    1712     1889     2141     2281      652\n",
       "1  동구     도평동     197    1591     1492     1373     1326      339\n",
       "2  동구     동촌동     371     926      667      675      919      412\n",
       "3  동구     방촌동    5247   16292    13219    14170    18182     7123\n",
       "4  동구  불로·봉무동    3835   14652    12919    12940    12947     3922\n",
       "5  동구    신암1동    1247    4477     3333     3566     4780     1956"
      ]
     },
     "execution_count": 4,
     "metadata": {},
     "output_type": "execute_result"
    }
   ],
   "source": [
    "df_traffic.head(6)"
   ]
  },
  {
   "cell_type": "markdown",
   "metadata": {},
   "source": [
    "## ⚠ 문제제기\n",
    "- 세부 동에 대한 데이터를 가지고 있기 때문에, 전반적인 유동인구 파악이 어렵다.\n",
    "   - 유동인구에 따른 창업 가이드라인을 제시해주기 위해 데이터를 전처리 해야한다."
   ]
  },
  {
   "cell_type": "code",
   "execution_count": 5,
   "metadata": {},
   "outputs": [
    {
     "name": "stdout",
     "output_type": "stream",
     "text": [
      "['동구' '북구' '수성구' '중구' '서구' '남구' '달서구' '달성군']\n",
      "\n",
      "['공산동' '도평동' '동촌동' '방촌동' '불로·봉무동' '신암1동' '신암2동' '신암3동' '신암4동' '신암5동 '\n",
      " '신천1·2동' '신천3동' '신천4동' '안심1동' '안심2동' '안심3·4동' '지저동' '해안동' '효목1동' '효목2동'\n",
      " '검단동' '고성동' '관문동' '관음동' '구암동' '국우동' '노원동' '대현동' '동천동' '무태조야동' '복현1동'\n",
      " '복현2동' '산격1동' '산격2동' '산격3동' '산격4동' '읍내동' '칠성동' '침산1동' '침산2동' '침산3동'\n",
      " '태전1동' '태전2동' '고산1동' '고산2동' '고산3동' '두산동' '만촌1동' '만촌2동' '만촌3동' '범물1동'\n",
      " '범물2동' '범어1동' '범어2동' '범어3동' '범어4동' '상동' '수성1가동' '수성2·3가동' '수성4가동' '중동'\n",
      " '지산1동' '지산2동' '파동' '황금1동' '황금2동' '남산1동' '남산2동' '남산3동' '남산4동' '대봉1동'\n",
      " '대봉2동' '대신동' '동인동' '삼덕동' '성내1동' '성내2동' '성내3동' '내당1동' '내당2·3동' '내당4동'\n",
      " '비산1동' '비산2·3동' '비산4동' '비산5동' '비산6동' '비산7동' '평리1동' '평리2동' '평리3동' '평리4동'\n",
      " '평리5동' '평리6동' '상중이동' '원대동' '이천동' '봉덕1동' '봉덕2동' '봉덕3동' '대명1동' '대명2동'\n",
      " '대명3동' '대명4동' '대명5동' '대명6동' '대명9동' '대명10동' '대명11동' '성당동' '두류1·2동' '두류3동'\n",
      " '본리동' '감삼동' '죽전동' '장기동' '용산1동' '용산2동' '이곡1동' '이곡2동' '신당동' '월성1동' '월성2동'\n",
      " '진천동' '상인1동' '상인2동' '상인3동' '도원동' '송현1동' '송현2동' '본 동' '화원읍' '논공읍' '다사읍'\n",
      " '유가읍' '옥포읍' '현풍읍' '가창면' '하빈면' '구지면']\n",
      "\n"
     ]
    }
   ],
   "source": [
    "# 행정구역 데이터 확인\n",
    "print('{}\\n'.format(df_traffic['구이름'].unique()))\n",
    "print('{}\\n'.format(df_traffic['동이름'].unique()))"
   ]
  },
  {
   "cell_type": "code",
   "execution_count": 6,
   "metadata": {},
   "outputs": [
    {
     "name": "stdout",
     "output_type": "stream",
     "text": [
      "구 이름 : ['동구' '북구' '수성구' '중구' '서구' '남구' '달서구']\n",
      "\n"
     ]
    }
   ],
   "source": [
    "# 대구 데이터만 추출\n",
    "daegu = df_traffic.loc[df_traffic['구이름'] != '달성군',:]\n",
    "\n",
    "# check\n",
    "print('구 이름 : {}\\n'.format(daegu['구이름'].unique()))"
   ]
  },
  {
   "cell_type": "markdown",
   "metadata": {},
   "source": [
    "### 시간대⏲ 데이터 추출"
   ]
  },
  {
   "cell_type": "code",
   "execution_count": 7,
   "metadata": {},
   "outputs": [
    {
     "data": {
      "text/html": [
       "<div>\n",
       "<style scoped>\n",
       "    .dataframe tbody tr th:only-of-type {\n",
       "        vertical-align: middle;\n",
       "    }\n",
       "\n",
       "    .dataframe tbody tr th {\n",
       "        vertical-align: top;\n",
       "    }\n",
       "\n",
       "    .dataframe thead th {\n",
       "        text-align: right;\n",
       "    }\n",
       "</style>\n",
       "<table border=\"1\" class=\"dataframe\">\n",
       "  <thead>\n",
       "    <tr style=\"text-align: right;\">\n",
       "      <th></th>\n",
       "      <th>동이름</th>\n",
       "      <th>시간대</th>\n",
       "      <th>인원수</th>\n",
       "    </tr>\n",
       "  </thead>\n",
       "  <tbody>\n",
       "    <tr>\n",
       "      <th>0</th>\n",
       "      <td>감삼동</td>\n",
       "      <td>00-06시</td>\n",
       "      <td>3237</td>\n",
       "    </tr>\n",
       "    <tr>\n",
       "      <th>130</th>\n",
       "      <td>감삼동</td>\n",
       "      <td>06-11시</td>\n",
       "      <td>14057</td>\n",
       "    </tr>\n",
       "    <tr>\n",
       "      <th>260</th>\n",
       "      <td>감삼동</td>\n",
       "      <td>11시-14시</td>\n",
       "      <td>10005</td>\n",
       "    </tr>\n",
       "    <tr>\n",
       "      <th>390</th>\n",
       "      <td>감삼동</td>\n",
       "      <td>14시-17시</td>\n",
       "      <td>11480</td>\n",
       "    </tr>\n",
       "    <tr>\n",
       "      <th>520</th>\n",
       "      <td>감삼동</td>\n",
       "      <td>17시-21시</td>\n",
       "      <td>16893</td>\n",
       "    </tr>\n",
       "    <tr>\n",
       "      <th>...</th>\n",
       "      <td>...</td>\n",
       "      <td>...</td>\n",
       "      <td>...</td>\n",
       "    </tr>\n",
       "    <tr>\n",
       "      <th>259</th>\n",
       "      <td>효목2동</td>\n",
       "      <td>06-11시</td>\n",
       "      <td>9704</td>\n",
       "    </tr>\n",
       "    <tr>\n",
       "      <th>389</th>\n",
       "      <td>효목2동</td>\n",
       "      <td>11시-14시</td>\n",
       "      <td>7849</td>\n",
       "    </tr>\n",
       "    <tr>\n",
       "      <th>519</th>\n",
       "      <td>효목2동</td>\n",
       "      <td>14시-17시</td>\n",
       "      <td>8915</td>\n",
       "    </tr>\n",
       "    <tr>\n",
       "      <th>649</th>\n",
       "      <td>효목2동</td>\n",
       "      <td>17시-21시</td>\n",
       "      <td>11382</td>\n",
       "    </tr>\n",
       "    <tr>\n",
       "      <th>779</th>\n",
       "      <td>효목2동</td>\n",
       "      <td>21시-24시</td>\n",
       "      <td>3948</td>\n",
       "    </tr>\n",
       "  </tbody>\n",
       "</table>\n",
       "<p>780 rows × 3 columns</p>\n",
       "</div>"
      ],
      "text/plain": [
       "      동이름      시간대    인원수\n",
       "0     감삼동   00-06시   3237\n",
       "130   감삼동   06-11시  14057\n",
       "260   감삼동  11시-14시  10005\n",
       "390   감삼동  14시-17시  11480\n",
       "520   감삼동  17시-21시  16893\n",
       "..    ...      ...    ...\n",
       "259  효목2동   06-11시   9704\n",
       "389  효목2동  11시-14시   7849\n",
       "519  효목2동  14시-17시   8915\n",
       "649  효목2동  17시-21시  11382\n",
       "779  효목2동  21시-24시   3948\n",
       "\n",
       "[780 rows x 3 columns]"
      ]
     },
     "execution_count": 7,
     "metadata": {},
     "output_type": "execute_result"
    }
   ],
   "source": [
    "# melting in timeline\n",
    "df_district = daegu.drop(columns=['구이름']\n",
    "                         ).groupby(by=['동이름']\n",
    "                                   ).sum().reset_index()\n",
    "df_district_melted = df_district.melt(\n",
    "    id_vars=['동이름'],\n",
    "    var_name='시간대',\n",
    "    value_name='인원수'\n",
    "    ).sort_values(['동이름','시간대'])\n",
    "\n",
    "# check\n",
    "df_district_melted"
   ]
  },
  {
   "cell_type": "markdown",
   "metadata": {},
   "source": [
    "<b>데이터 전처리</b>\n",
    "를 통해 행정구역을 통합하고 우리가 원하는 데이터를 추출할 수 있도록 하자"
   ]
  },
  {
   "cell_type": "code",
   "execution_count": 8,
   "metadata": {},
   "outputs": [
    {
     "data": {
      "text/plain": [
       "array(['감삼동', '검단동', '고산1동', '고산2동', '고산3동', '고성동', '공산동', '관문동', '관음동',\n",
       "       '구암동', '국우동', '남산1동', '남산2동', '남산3동', '남산4동', '내당1동', '내당2·3동',\n",
       "       '내당4동', '노원동', '대명10동', '대명11동', '대명1동', '대명2동', '대명3동', '대명4동',\n",
       "       '대명5동', '대명6동', '대명9동', '대봉1동', '대봉2동', '대신동', '대현동', '도원동', '도평동',\n",
       "       '동인동', '동천동', '동촌동', '두류1·2동', '두류3동', '두산동', '만촌1동', '만촌2동',\n",
       "       '만촌3동', '무태조야동', '방촌동', '범물1동', '범물2동', '범어1동', '범어2동', '범어3동',\n",
       "       '범어4동', '복현1동', '복현2동', '본 동', '본리동', '봉덕1동', '봉덕2동', '봉덕3동',\n",
       "       '불로·봉무동', '비산1동', '비산2·3동', '비산4동', '비산5동', '비산6동', '비산7동', '산격1동',\n",
       "       '산격2동', '산격3동', '산격4동', '삼덕동', '상동', '상인1동', '상인2동', '상인3동',\n",
       "       '상중이동', '성내1동', '성내2동', '성내3동', '성당동', '송현1동', '송현2동', '수성1가동',\n",
       "       '수성2·3가동', '수성4가동', '신당동', '신암1동', '신암2동', '신암3동', '신암4동', '신암5동 ',\n",
       "       '신천1·2동', '신천3동', '신천4동', '안심1동', '안심2동', '안심3·4동', '용산1동', '용산2동',\n",
       "       '원대동', '월성1동', '월성2동', '읍내동', '이곡1동', '이곡2동', '이천동', '장기동', '죽전동',\n",
       "       '중동', '지산1동', '지산2동', '지저동', '진천동', '칠성동', '침산1동', '침산2동', '침산3동',\n",
       "       '태전1동', '태전2동', '파동', '평리1동', '평리2동', '평리3동', '평리4동', '평리5동',\n",
       "       '평리6동', '해안동', '황금1동', '황금2동', '효목1동', '효목2동'], dtype=object)"
      ]
     },
     "execution_count": 8,
     "metadata": {},
     "output_type": "execute_result"
    }
   ],
   "source": [
    "# 고유한 값 재확인\n",
    "df_district_melted['동이름'].unique()"
   ]
  },
  {
   "cell_type": "code",
   "execution_count": 9,
   "metadata": {},
   "outputs": [
    {
     "name": "stdout",
     "output_type": "stream",
     "text": [
      "['감삼동', '검단동', '고산동', '고성동', '공산동', '관문동', '관음동', '구암동', '국우동', '남산동', '내당동', '노원동', '대명동', '대봉동', '대신동', '대현동', '도원동', '도평동', '동인동', '동천동', '동촌동', '두류동', '두산동', '만촌동', '무태조야동', '방촌동', '범물동', '범어동', '복현동', '본 동', '본리동', '봉덕동', '불로봉무동', '비산동', '산격동', '삼덕동', '상동', '상인동', '상중이동', '성내동', '성당동', '송현동', '수성가동', '신당동', '신암동', '신암동 ', '신천동', '안심동', '용산동', '원대동', '월성동', '읍내동', '이곡동', '이천동', '장기동', '죽전동', '중동', '지산동', '지저동', '진천동', '칠성동', '침산동', '태전동', '파동', '평리동', '해안동', '황금동', '효목동']\n"
     ]
    }
   ],
   "source": [
    "# 동 이름 합치기\n",
    "df_district_melted['동이름'] = df_district_melted['동이름'].copy().str.replace(\n",
    "    '(.*)[0-9](.*)',r'\\1\\2',regex=True\n",
    "    ).replace(\n",
    "        '(.*)[0-9](.*)',r'\\1\\2',regex=True\n",
    "        ).replace(\n",
    "            '(.*)·(.*)',r'\\1\\2',regex=True\n",
    "            )\n",
    "\n",
    "# check\n",
    "print(sorted(df_district_melted['동이름'].unique()))"
   ]
  },
  {
   "cell_type": "markdown",
   "metadata": {},
   "source": [
    "## 첫 번째 시각화📊\n",
    "- 시간대별 상위 6개 '동'을 구한다.\n",
    "- 이를 통해, 예측하거나 적용해볼 수 있는 상황을 추론해본다.\n",
    "- bar 그래프를 적용한다."
   ]
  },
  {
   "cell_type": "code",
   "execution_count": 10,
   "metadata": {},
   "outputs": [
    {
     "name": "stderr",
     "output_type": "stream",
     "text": [
      "C:\\Users\\kdh\\miniconda3\\envs\\analysis\\lib\\site-packages\\IPython\\core\\pylabtools.py:151: UserWarning: Glyph 49884 (\\N{HANGUL SYLLABLE SI}) missing from current font.\n",
      "  fig.canvas.print_figure(bytes_io, **kw)\n",
      "C:\\Users\\kdh\\miniconda3\\envs\\analysis\\lib\\site-packages\\IPython\\core\\pylabtools.py:151: UserWarning: Glyph 51064 (\\N{HANGUL SYLLABLE IN}) missing from current font.\n",
      "  fig.canvas.print_figure(bytes_io, **kw)\n",
      "C:\\Users\\kdh\\miniconda3\\envs\\analysis\\lib\\site-packages\\IPython\\core\\pylabtools.py:151: UserWarning: Glyph 50896 (\\N{HANGUL SYLLABLE WEON}) missing from current font.\n",
      "  fig.canvas.print_figure(bytes_io, **kw)\n",
      "C:\\Users\\kdh\\miniconda3\\envs\\analysis\\lib\\site-packages\\IPython\\core\\pylabtools.py:151: UserWarning: Glyph 49688 (\\N{HANGUL SYLLABLE SU}) missing from current font.\n",
      "  fig.canvas.print_figure(bytes_io, **kw)\n"
     ]
    },
    {
     "data": {
      "image/png": "[encoded data removed]",
      "text/plain": [
       "<Figure size 1080x1440 with 6 Axes>"
      ]
     },
     "metadata": {
      "needs_background": "light"
     },
     "output_type": "display_data"
    }
   ],
   "source": [
    "# 시간대 별 유동인구를 분석한다.\n",
    "fig, ax = plt.subplots(nrows=3,ncols=2,figsize=(15,20))\n",
    "ax = [*ax[0],*ax[1],*ax[2]]\n",
    "\n",
    "sns.set_style('ticks')\n",
    "sns.set(font_scale = 1.3)\n",
    "rc('font', family=font_name)\n",
    "\n",
    "# 시간대 데이터 추출\n",
    "times = df_district_melted['시간대'].unique()\n",
    "for i,t in enumerate(times):\n",
    "    df_by_times = df_district_melted[df_district_melted['시간대'] == t].groupby(\n",
    "        by=['동이름','시간대']\n",
    "        ).sum(\n",
    "            ).reset_index(\n",
    "            ).sort_values('인원수').tail(6)\n",
    "    \n",
    "    \n",
    "    sns.barplot(ax=ax[i],data=df_by_times,x='동이름',y='인원수',hue='동이름')\n",
    "    \n",
    "    ax[i].set_title(f'{t}')\n",
    "    ax[i].get_xaxis().set_visible(False)\n",
    "    \n",
    "    handles, labels = ax[i].get_legend_handles_labels()\n",
    "    ax[i].legend(reversed(handles), reversed(labels), loc='upper left')\n",
    "    \n",
    "    # 모든 bar가 나오도록    \n",
    "    b,t = ax[i].get_xlim()\n",
    "    ax[i].set_xlim(b-0.1,t+0.7)\n",
    "    \n",
    "    # bar 크기 변환\n",
    "    for p in ax[i].patches:\n",
    "        p.set_width(0.7)"
   ]
  },
  {
   "cell_type": "markdown",
   "metadata": {},
   "source": [
    "# 🔭 분석 \n",
    "1. 유동인구는 <b>대명동</b>에서 모든 시간대에가 가장 많은 것으로 나타났다.\n",
    "2. 그 외 06시부터 21시까지 <b>성내동</b>에서 두 번째로 가장 유동인구가 많은 것으로 나타났다.\n",
    "   1. 유동인구를 바탕으로 창업할 지역을 추천하자면, 사람이 주로 활동하는 시간에 유동인구가 많은 대명동, 성내동, 신천동 등을 추천한다."
   ]
  },
  {
   "cell_type": "markdown",
   "metadata": {},
   "source": [
    "################################################################################################################################################"
   ]
  },
  {
   "cell_type": "markdown",
   "metadata": {},
   "source": [
    "## 두 번째 시각화📊\n",
    "- 전반적인 상황을 고려하여 시간대를 무시한 <b>유동인구</b>의 통계를 살펴본다.\n",
    "- 이를 통해, 예측하거나 적용해볼 수 있는 상황을 추론해본다.\n",
    "- bar 그래프를 적용한다."
   ]
  },
  {
   "cell_type": "code",
   "execution_count": 11,
   "metadata": {},
   "outputs": [
    {
     "data": {
      "text/plain": [
       "<AxesSubplot:xlabel='동이름', ylabel='인원수'>"
      ]
     },
     "execution_count": 11,
     "metadata": {},
     "output_type": "execute_result"
    },
    {
     "data": {
      "image/png": "[encoded data removed]",
      "text/plain": [
       "<Figure size 1080x576 with 1 Axes>"
      ]
     },
     "metadata": {},
     "output_type": "display_data"
    }
   ],
   "source": [
    "sns.set_style('dark')\n",
    "sns.set(font_scale = 1.5)\n",
    "rc('font', family=font_name)\n",
    "\n",
    "plt.figure(figsize=(15,8))\n",
    "\n",
    "this_barplot_data = df_district_melted.drop(columns=['시간대']).groupby(by='동이름').sum().reset_index().sort_values('인원수')\n",
    "this_barplot_options = {\n",
    "    'data':this_barplot_data.tail(6),\n",
    "    'x':'동이름',\n",
    "    'y':'인원수'\n",
    "}\n",
    "\n",
    "sns.barplot(**this_barplot_options)"
   ]
  },
  {
   "cell_type": "markdown",
   "metadata": {},
   "source": [
    "# 🔬분석 \n",
    "1. 첫 번째 시각화의 분석 결과와 비교해서 가장 많은 그리고 차순의 동이름은 같았으나, 그 이후의 순위는 달랐음을 알 수 있었다.\n",
    "2. 하지만, 유동인구가 가장 많은 동과 나머지 동과의 차이는 분명하다.\n",
    "   1. 유동인구를 고려하자면 상위 3위 이내로 선택하는 것이 좋을 것이다."
   ]
  },
  {
   "cell_type": "markdown",
   "metadata": {},
   "source": [
    "################################################################################################################################################"
   ]
  },
  {
   "cell_type": "markdown",
   "metadata": {},
   "source": [
    "## 세 번째 시각화🥧\n",
    "- 두 번째 시각화를 바탕으로 시간대별로 시각화해본다.\n",
    "- 이를 통해, 예측하거나 적용해볼 수 있는 상황을 추론해본다.\n",
    "- pie 그래프를 적용한다."
   ]
  },
  {
   "cell_type": "code",
   "execution_count": 12,
   "metadata": {},
   "outputs": [
    {
     "data": {
      "image/png": "[encoded data removed]",
      "text/plain": [
       "<Figure size 1080x576 with 1 Axes>"
      ]
     },
     "metadata": {},
     "output_type": "display_data"
    },
    {
     "data": {
      "image/png": "[encoded data removed]",
      "text/plain": [
       "<Figure size 1080x576 with 1 Axes>"
      ]
     },
     "metadata": {},
     "output_type": "display_data"
    },
    {
     "data": {
      "image/png": "[encoded data removed]",
      "text/plain": [
       "<Figure size 1080x576 with 1 Axes>"
      ]
     },
     "metadata": {},
     "output_type": "display_data"
    },
    {
     "data": {
      "image/png": "[encoded data removed]",
      "text/plain": [
       "<Figure size 1080x576 with 1 Axes>"
      ]
     },
     "metadata": {},
     "output_type": "display_data"
    },
    {
     "data": {
      "image/png": "[encoded data removed]",
      "text/plain": [
       "<Figure size 1080x576 with 1 Axes>"
      ]
     },
     "metadata": {},
     "output_type": "display_data"
    },
    {
     "data": {
      "image/png": "[encoded data removed]",
      "text/plain": [
       "<Figure size 1080x576 with 1 Axes>"
      ]
     },
     "metadata": {},
     "output_type": "display_data"
    }
   ],
   "source": [
    "# 상위 유동인구의 동의 시간대별 유동인구의 분포를 파악한다.\n",
    "district_names_top6 = this_barplot_options['data']['동이름']\n",
    "\n",
    "temp_df = df_district_melted[df_district_melted['동이름'].isin(district_names_top6)].groupby(by=['동이름','시간대']).sum().reset_index()\n",
    "temp_df\n",
    "\n",
    "sns.set(font_scale=1.2,rc={'figure.facecolor':'None'})\n",
    "rc('font', family=font_name)\n",
    "\n",
    "plt.rcParams.update({'text.color': \"white\",})\n",
    "for n in district_names_top6:\n",
    "    this_df = temp_df[temp_df['동이름'] == n]\n",
    "    \n",
    "    # draw pie chart\n",
    "    data = this_df['인원수'].sort_values(ascending=True)\n",
    "    colors = ['#F22248','#BF0436', '#8C0335', '#590222','#E6B0AA','#F1948A']\n",
    "    explode = [0.03,0.03,0.03,0.03,0.03,0.15]\n",
    "    \n",
    "    plt.figure(figsize=(15,8))\n",
    "    plt.pie(data,labels = this_df['시간대'],autopct='%.0f%%',colors=colors,explode=explode,startangle=180,wedgeprops={\n",
    "        'edgecolor':'#F2F3F4','linewidth':5\n",
    "    },textprops={'fontsize': 15, 'fontweight':'bold'})\n",
    "    \n",
    "    plt.title(n)\n",
    "    plt.show()\n"
   ]
  },
  {
   "cell_type": "markdown",
   "metadata": {},
   "source": [
    "# ⚖분석\n",
    "1. 아침과 새벽을 제외하고 나머지 시간대에 사람이 많다.\n",
    "2. 특히 저녁시간과 오후 9시 ~ 12시 사이에 가장 많은 유동인구 비율을 갖는다.\n",
    "3. 이를 바탕으로 낮에 할 수 있는 창업직종 보다는 <b>저녁~ 야간</b>에 할 수 있는 일을 추천할 수 있다."
   ]
  },
  {
   "cell_type": "markdown",
   "metadata": {},
   "source": [
    "################################################################################################################################################"
   ]
  },
  {
   "cell_type": "markdown",
   "metadata": {},
   "source": [
    "## ⚠ 문제제기\n",
    "- 교통과 엮어서 분석할 수 있는 정보가 부족하다.\n",
    "- 지하철역이 있는 지역의 유동인구와의 연관성을 비교하기 위해 <b>지하철 역 정보</b>가 필요하다.\n",
    "- 그리고 이를 정제한 데이터가 필요하다."
   ]
  },
  {
   "cell_type": "markdown",
   "metadata": {},
   "source": [
    "### 🚆대구 지하철 데이터 추출"
   ]
  },
  {
   "cell_type": "code",
   "execution_count": 13,
   "metadata": {},
   "outputs": [
    {
     "data": {
      "text/html": [
       "<div>\n",
       "<style scoped>\n",
       "    .dataframe tbody tr th:only-of-type {\n",
       "        vertical-align: middle;\n",
       "    }\n",
       "\n",
       "    .dataframe tbody tr th {\n",
       "        vertical-align: top;\n",
       "    }\n",
       "\n",
       "    .dataframe thead th {\n",
       "        text-align: right;\n",
       "    }\n",
       "</style>\n",
       "<table border=\"1\" class=\"dataframe\">\n",
       "  <thead>\n",
       "    <tr style=\"text-align: right;\">\n",
       "      <th></th>\n",
       "      <th>철도운영기관명</th>\n",
       "      <th>선명</th>\n",
       "      <th>역명</th>\n",
       "      <th>지번주소</th>\n",
       "      <th>도로명주소</th>\n",
       "    </tr>\n",
       "  </thead>\n",
       "  <tbody>\n",
       "    <tr>\n",
       "      <th>0</th>\n",
       "      <td>대구도시철도공사</td>\n",
       "      <td>1호선</td>\n",
       "      <td>각산</td>\n",
       "      <td>대구광역시 동구 신서동 627-15</td>\n",
       "      <td>대구광역시 동구 안심로 지하363(신서동)</td>\n",
       "    </tr>\n",
       "    <tr>\n",
       "      <th>1</th>\n",
       "      <td>대구도시철도공사</td>\n",
       "      <td>1호선</td>\n",
       "      <td>교대</td>\n",
       "      <td>대구광역시 남구 대명동 1982-11</td>\n",
       "      <td>대구광역시 남구 중앙대로 지하194(대명동)</td>\n",
       "    </tr>\n",
       "    <tr>\n",
       "      <th>2</th>\n",
       "      <td>대구도시철도공사</td>\n",
       "      <td>1호선</td>\n",
       "      <td>대곡(정부대구청사)</td>\n",
       "      <td>대구광역시 달서구 대곡동 946</td>\n",
       "      <td>대구광역시 달서구 비슬로 지하2718(대곡동)</td>\n",
       "    </tr>\n",
       "    <tr>\n",
       "      <th>3</th>\n",
       "      <td>대구도시철도공사</td>\n",
       "      <td>1호선</td>\n",
       "      <td>대구역</td>\n",
       "      <td>대구광역시 북구 칠성동2가 302-305</td>\n",
       "      <td>대구광역시 북구 칠성남30길 지하24(칠성동)</td>\n",
       "    </tr>\n",
       "    <tr>\n",
       "      <th>4</th>\n",
       "      <td>대구도시철도공사</td>\n",
       "      <td>1호선</td>\n",
       "      <td>대명</td>\n",
       "      <td>대구광역시 남구 대명동 1291</td>\n",
       "      <td>대구광역시 남구 대명로 지하71(대명동)</td>\n",
       "    </tr>\n",
       "    <tr>\n",
       "      <th>...</th>\n",
       "      <td>...</td>\n",
       "      <td>...</td>\n",
       "      <td>...</td>\n",
       "      <td>...</td>\n",
       "      <td>...</td>\n",
       "    </tr>\n",
       "    <tr>\n",
       "      <th>86</th>\n",
       "      <td>대구도시철도공사</td>\n",
       "      <td>3호선</td>\n",
       "      <td>팔거(국립농관원/통계청)</td>\n",
       "      <td>대구광역시 북구 동천동 960</td>\n",
       "      <td>대구광역시 북구 팔거천동로 226(동천동)</td>\n",
       "    </tr>\n",
       "    <tr>\n",
       "      <th>87</th>\n",
       "      <td>대구도시철도공사</td>\n",
       "      <td>3호선</td>\n",
       "      <td>팔달</td>\n",
       "      <td>대구광역시 북구 팔달동 76-3</td>\n",
       "      <td>대구광역시 북구 매천로2길 43(팔달동)</td>\n",
       "    </tr>\n",
       "    <tr>\n",
       "      <th>88</th>\n",
       "      <td>대구도시철도공사</td>\n",
       "      <td>3호선</td>\n",
       "      <td>팔달시장</td>\n",
       "      <td>대구광역시 북구 노원동3가 784-1</td>\n",
       "      <td>대구광역시 북구 팔달로 163-1(노원동3가)</td>\n",
       "    </tr>\n",
       "    <tr>\n",
       "      <th>89</th>\n",
       "      <td>대구도시철도공사</td>\n",
       "      <td>3호선</td>\n",
       "      <td>학정</td>\n",
       "      <td>대구광역시 북구 학정동 752-3</td>\n",
       "      <td>대구광역시 북구 팔거천동로 310(학정동)</td>\n",
       "    </tr>\n",
       "    <tr>\n",
       "      <th>90</th>\n",
       "      <td>대구도시철도공사</td>\n",
       "      <td>3호선</td>\n",
       "      <td>황금</td>\n",
       "      <td>대구광역시 수성구 두산동 968</td>\n",
       "      <td>대구광역시 수성구 동대구로 100(두산동)</td>\n",
       "    </tr>\n",
       "  </tbody>\n",
       "</table>\n",
       "<p>91 rows × 5 columns</p>\n",
       "</div>"
      ],
      "text/plain": [
       "     철도운영기관명   선명             역명                    지번주소  \\\n",
       "0   대구도시철도공사  1호선             각산     대구광역시 동구 신서동 627-15   \n",
       "1   대구도시철도공사  1호선             교대    대구광역시 남구 대명동 1982-11   \n",
       "2   대구도시철도공사  1호선     대곡(정부대구청사)       대구광역시 달서구 대곡동 946   \n",
       "3   대구도시철도공사  1호선            대구역  대구광역시 북구 칠성동2가 302-305   \n",
       "4   대구도시철도공사  1호선             대명       대구광역시 남구 대명동 1291   \n",
       "..       ...  ...            ...                     ...   \n",
       "86  대구도시철도공사  3호선  팔거(국립농관원/통계청)        대구광역시 북구 동천동 960   \n",
       "87  대구도시철도공사  3호선             팔달       대구광역시 북구 팔달동 76-3   \n",
       "88  대구도시철도공사  3호선           팔달시장    대구광역시 북구 노원동3가 784-1   \n",
       "89  대구도시철도공사  3호선             학정      대구광역시 북구 학정동 752-3   \n",
       "90  대구도시철도공사  3호선             황금       대구광역시 수성구 두산동 968   \n",
       "\n",
       "                        도로명주소  \n",
       "0     대구광역시 동구 안심로 지하363(신서동)  \n",
       "1    대구광역시 남구 중앙대로 지하194(대명동)  \n",
       "2   대구광역시 달서구 비슬로 지하2718(대곡동)  \n",
       "3   대구광역시 북구 칠성남30길 지하24(칠성동)  \n",
       "4      대구광역시 남구 대명로 지하71(대명동)  \n",
       "..                        ...  \n",
       "86    대구광역시 북구 팔거천동로 226(동천동)  \n",
       "87     대구광역시 북구 매천로2길 43(팔달동)  \n",
       "88  대구광역시 북구 팔달로 163-1(노원동3가)  \n",
       "89    대구광역시 북구 팔거천동로 310(학정동)  \n",
       "90    대구광역시 수성구 동대구로 100(두산동)  \n",
       "\n",
       "[91 rows x 5 columns]"
      ]
     },
     "execution_count": 13,
     "metadata": {},
     "output_type": "execute_result"
    }
   ],
   "source": [
    "# get data\n",
    "df_daegu_subway = get_dataframe('subway','대구_지하철.csv')\n",
    "df_daegu_subway"
   ]
  },
  {
   "cell_type": "code",
   "execution_count": 14,
   "metadata": {},
   "outputs": [
    {
     "data": {
      "text/plain": [
       "Index(['선명', '역명', '동이름'], dtype='object')"
      ]
     },
     "execution_count": 14,
     "metadata": {},
     "output_type": "execute_result"
    }
   ],
   "source": [
    "# 동 이름으로 유동인구와 엮을 수 있도록 데이터를 전처리\n",
    "df_daegu_subway_parsed = df_daegu_subway.copy()\n",
    "\n",
    "# 필요없는 데이터 drop\n",
    "df_daegu_subway_parsed.drop(columns=['철도운영기관명', '지번주소'],inplace=True)\n",
    "\n",
    "cols = df_daegu_subway_parsed.columns.tolist()\n",
    "cols[-1] = '동이름'\n",
    "\n",
    "df_daegu_subway_parsed.columns = cols\n",
    "df_daegu_subway_parsed.columns"
   ]
  },
  {
   "cell_type": "code",
   "execution_count": 15,
   "metadata": {},
   "outputs": [
    {
     "data": {
      "text/html": [
       "<div>\n",
       "<style scoped>\n",
       "    .dataframe tbody tr th:only-of-type {\n",
       "        vertical-align: middle;\n",
       "    }\n",
       "\n",
       "    .dataframe tbody tr th {\n",
       "        vertical-align: top;\n",
       "    }\n",
       "\n",
       "    .dataframe thead th {\n",
       "        text-align: right;\n",
       "    }\n",
       "</style>\n",
       "<table border=\"1\" class=\"dataframe\">\n",
       "  <thead>\n",
       "    <tr style=\"text-align: right;\">\n",
       "      <th></th>\n",
       "      <th>선명</th>\n",
       "      <th>역명</th>\n",
       "      <th>동이름</th>\n",
       "    </tr>\n",
       "  </thead>\n",
       "  <tbody>\n",
       "    <tr>\n",
       "      <th>0</th>\n",
       "      <td>1호선</td>\n",
       "      <td>각산</td>\n",
       "      <td>신서동</td>\n",
       "    </tr>\n",
       "    <tr>\n",
       "      <th>1</th>\n",
       "      <td>1호선</td>\n",
       "      <td>교대</td>\n",
       "      <td>대명동</td>\n",
       "    </tr>\n",
       "    <tr>\n",
       "      <th>2</th>\n",
       "      <td>1호선</td>\n",
       "      <td>대곡(정부대구청사)</td>\n",
       "      <td>대곡동</td>\n",
       "    </tr>\n",
       "    <tr>\n",
       "      <th>3</th>\n",
       "      <td>1호선</td>\n",
       "      <td>대구역</td>\n",
       "      <td>칠성동</td>\n",
       "    </tr>\n",
       "    <tr>\n",
       "      <th>4</th>\n",
       "      <td>1호선</td>\n",
       "      <td>대명</td>\n",
       "      <td>대명동</td>\n",
       "    </tr>\n",
       "    <tr>\n",
       "      <th>...</th>\n",
       "      <td>...</td>\n",
       "      <td>...</td>\n",
       "      <td>...</td>\n",
       "    </tr>\n",
       "    <tr>\n",
       "      <th>86</th>\n",
       "      <td>3호선</td>\n",
       "      <td>팔거(국립농관원/통계청)</td>\n",
       "      <td>동천동</td>\n",
       "    </tr>\n",
       "    <tr>\n",
       "      <th>87</th>\n",
       "      <td>3호선</td>\n",
       "      <td>팔달</td>\n",
       "      <td>팔달동</td>\n",
       "    </tr>\n",
       "    <tr>\n",
       "      <th>88</th>\n",
       "      <td>3호선</td>\n",
       "      <td>팔달시장</td>\n",
       "      <td>노원동3가</td>\n",
       "    </tr>\n",
       "    <tr>\n",
       "      <th>89</th>\n",
       "      <td>3호선</td>\n",
       "      <td>학정</td>\n",
       "      <td>학정동</td>\n",
       "    </tr>\n",
       "    <tr>\n",
       "      <th>90</th>\n",
       "      <td>3호선</td>\n",
       "      <td>황금</td>\n",
       "      <td>두산동</td>\n",
       "    </tr>\n",
       "  </tbody>\n",
       "</table>\n",
       "<p>91 rows × 3 columns</p>\n",
       "</div>"
      ],
      "text/plain": [
       "     선명             역명    동이름\n",
       "0   1호선             각산    신서동\n",
       "1   1호선             교대    대명동\n",
       "2   1호선     대곡(정부대구청사)    대곡동\n",
       "3   1호선            대구역    칠성동\n",
       "4   1호선             대명    대명동\n",
       "..  ...            ...    ...\n",
       "86  3호선  팔거(국립농관원/통계청)    동천동\n",
       "87  3호선             팔달    팔달동\n",
       "88  3호선           팔달시장  노원동3가\n",
       "89  3호선             학정    학정동\n",
       "90  3호선             황금    두산동\n",
       "\n",
       "[91 rows x 3 columns]"
      ]
     },
     "execution_count": 15,
     "metadata": {},
     "output_type": "execute_result"
    }
   ],
   "source": [
    "# 지하철 역 데이터에서 동 이름 추출\n",
    "district_temp = df_daegu_subway_parsed['동이름'].copy().map(lambda x :x.split('(').__len__())\n",
    "indexs1 = district_temp[district_temp==1].index.tolist()\n",
    "indexs2 = district_temp[district_temp==2].index.tolist()\n",
    "\n",
    "df_daegu_subway_parsed['동이름'][indexs1] = df_daegu_subway_parsed['동이름'].copy()[indexs1].map(lambda x:x.split()[2])\n",
    "df_daegu_subway_parsed['동이름'][indexs2] = df_daegu_subway_parsed['동이름'].copy()[indexs2].map(lambda x:x.split('(')[1].split(')')[0])\n",
    "\n",
    "df_daegu_subway_parsed"
   ]
  },
  {
   "cell_type": "markdown",
   "metadata": {},
   "source": [
    "## ⚠ 추가 문제제기\n",
    "- 지하철역의 동이름과 유동인구 데이터의 동이름이 서로 일치하지 않아 전처리가 필요함"
   ]
  },
  {
   "cell_type": "code",
   "execution_count": 16,
   "metadata": {},
   "outputs": [
    {
     "data": {
      "text/plain": [
       "5      관문동\n",
       "20     동촌동\n",
       "65     해안동\n",
       "8      국우동\n",
       "54     장기동\n",
       "      ... \n",
       "61     침산동\n",
       "42    수성가동\n",
       "46     신천동\n",
       "39     성내동\n",
       "12     대명동\n",
       "Name: 동이름, Length: 68, dtype: object"
      ]
     },
     "execution_count": 16,
     "metadata": {},
     "output_type": "execute_result"
    }
   ],
   "source": [
    "temp = this_barplot_data['동이름'].copy().str.replace(\n",
    "    '(.*)[1-9](.*)',r'\\1\\2',regex=True\n",
    "    ).replace(\n",
    "        '(.*)[1-9](.*)',r'\\1\\2',regex=True\n",
    "        ).replace(\n",
    "            '(.*)·(.*)',r'\\1\\2',regex=True\n",
    "            )\n",
    "        \n",
    "this_barplot_data['동이름'] = temp\n",
    "this_barplot_data['동이름']"
   ]
  },
  {
   "cell_type": "markdown",
   "metadata": {},
   "source": [
    "## 문제\n",
    "- left outer join 후 left보다 더 긴 row가 생겨남\n",
    "\n",
    "## 해결\n",
    "- 중복되는 값을 제거함"
   ]
  },
  {
   "cell_type": "code",
   "execution_count": 17,
   "metadata": {},
   "outputs": [
    {
     "name": "stdout",
     "output_type": "stream",
     "text": [
      "['감삼동', '검단동', '고산동', '고성동', '공산동', '관문동', '관음동', '구암동', '국우동', '남산동', '내당동', '노원동', '대명동', '대봉동', '대신동', '대현동', '도원동', '도평동', '동인동', '동천동', '동촌동', '두류동', '두산동', '만촌동', '무태조야동', '방촌동', '범물동', '범어동', '복현동', '본 동', '본리동', '봉덕동', '불로봉무동', '비산동', '산격동', '삼덕동', '상동', '상인동', '상중이동', '성내동', '성당동', '송현동', '수성가동', '신당동', '신암동', '신암동 ', '신천동', '안심동', '용산동', '원대동', '월성동', '읍내동', '이곡동', '이천동', '장기동', '죽전동', '중동', '지산동', '지저동', '진천동', '칠성동', '침산동', '태전동', '파동', '평리동', '해안동', '황금동', '효목동']\n",
      "     동이름     인원수\n",
      "5    관문동    3478\n",
      "20   동촌동    3970\n",
      "65   해안동    3977\n",
      "8    국우동    5546\n",
      "54   장기동    5998\n",
      "..   ...     ...\n",
      "61   침산동  168861\n",
      "42  수성가동  178625\n",
      "46   신천동  197610\n",
      "39   성내동  270691\n",
      "12   대명동  348445\n",
      "\n",
      "[68 rows x 2 columns]\n",
      "['신서동' '대명동' '대곡동' '칠성동' '신천동' '검사동' '남산동' '동호동' '덕산동' '방촌동' '상인동' '화원읍'\n",
      " '송현동' '신기동' '신암동' '괴전동' '용계동' '진천동' '율하동' '남일동' '감삼동' '호산동' '삼덕동2가' '신당동'\n",
      " '시지동' '내당동' '다사읍' '만촌동' '연호동' '수성동' '두류동' '범어동' '신매동' '이곡동' '동산동' '매호동'\n",
      " '대동' '용산동' '중방동' '정평동' '죽전동' '이천동' '비산동' '구암동' '수창동' '동천동' '노원동3가' '매천동'\n",
      " '범물동' '원대동2가' '대신동' '지산동' '수성동2가' '황금동' '원대동3가' '태전동' '팔달동' '학정동' '두산동']\n",
      "     선명             역명    동이름\n",
      "0   1호선             각산    신서동\n",
      "1   1호선             교대    대명동\n",
      "2   1호선     대곡(정부대구청사)    대곡동\n",
      "3   1호선            대구역    칠성동\n",
      "4   1호선             대명    대명동\n",
      "..  ...            ...    ...\n",
      "86  3호선  팔거(국립농관원/통계청)    동천동\n",
      "87  3호선             팔달    팔달동\n",
      "88  3호선           팔달시장  노원동3가\n",
      "89  3호선             학정    학정동\n",
      "90  3호선             황금    두산동\n",
      "\n",
      "[91 rows x 3 columns]\n"
     ]
    }
   ],
   "source": [
    "print(sorted(this_barplot_data['동이름'].unique()))\n",
    "print(this_barplot_data)\n",
    "print(df_daegu_subway_parsed['동이름'].unique())\n",
    "print(df_daegu_subway_parsed)"
   ]
  },
  {
   "cell_type": "code",
   "execution_count": 18,
   "metadata": {},
   "outputs": [
    {
     "data": {
      "text/html": [
       "<div>\n",
       "<style scoped>\n",
       "    .dataframe tbody tr th:only-of-type {\n",
       "        vertical-align: middle;\n",
       "    }\n",
       "\n",
       "    .dataframe tbody tr th {\n",
       "        vertical-align: top;\n",
       "    }\n",
       "\n",
       "    .dataframe thead th {\n",
       "        text-align: right;\n",
       "    }\n",
       "</style>\n",
       "<table border=\"1\" class=\"dataframe\">\n",
       "  <thead>\n",
       "    <tr style=\"text-align: right;\">\n",
       "      <th></th>\n",
       "      <th>선명</th>\n",
       "      <th>역명</th>\n",
       "      <th>동이름</th>\n",
       "    </tr>\n",
       "  </thead>\n",
       "  <tbody>\n",
       "    <tr>\n",
       "      <th>32</th>\n",
       "      <td>2호선</td>\n",
       "      <td>감삼</td>\n",
       "      <td>감삼동</td>\n",
       "    </tr>\n",
       "    <tr>\n",
       "      <th>6</th>\n",
       "      <td>1호선</td>\n",
       "      <td>동촌</td>\n",
       "      <td>검사동</td>\n",
       "    </tr>\n",
       "    <tr>\n",
       "      <th>18</th>\n",
       "      <td>1호선</td>\n",
       "      <td>안심(혁신도시·첨복단지)</td>\n",
       "      <td>괴전동</td>\n",
       "    </tr>\n",
       "    <tr>\n",
       "      <th>63</th>\n",
       "      <td>3호선</td>\n",
       "      <td>구암</td>\n",
       "      <td>구암동</td>\n",
       "    </tr>\n",
       "    <tr>\n",
       "      <th>7</th>\n",
       "      <td>1호선</td>\n",
       "      <td>명덕(2.28민주운동기념회관)</td>\n",
       "      <td>남산동</td>\n",
       "    </tr>\n",
       "    <tr>\n",
       "      <th>25</th>\n",
       "      <td>1호선</td>\n",
       "      <td>중앙로</td>\n",
       "      <td>남일동</td>\n",
       "    </tr>\n",
       "  </tbody>\n",
       "</table>\n",
       "</div>"
      ],
      "text/plain": [
       "     선명                역명  동이름\n",
       "32  2호선                감삼  감삼동\n",
       "6   1호선                동촌  검사동\n",
       "18  1호선     안심(혁신도시·첨복단지)  괴전동\n",
       "63  3호선                구암  구암동\n",
       "7   1호선  명덕(2.28민주운동기념회관)  남산동\n",
       "25  1호선               중앙로  남일동"
      ]
     },
     "execution_count": 18,
     "metadata": {},
     "output_type": "execute_result"
    }
   ],
   "source": [
    "# 중복된 값을 제거\n",
    "df_no_duplicated = df_daegu_subway_parsed.drop_duplicates(subset=['동이름']).sort_values('동이름')\n",
    "df_no_duplicated.head(6)"
   ]
  },
  {
   "cell_type": "code",
   "execution_count": 19,
   "metadata": {},
   "outputs": [
    {
     "name": "stdout",
     "output_type": "stream",
     "text": [
      "<class 'pandas.core.frame.DataFrame'>\n",
      "Int64Index: 28 entries, 0 to 66\n",
      "Data columns (total 4 columns):\n",
      " #   Column  Non-Null Count  Dtype \n",
      "---  ------  --------------  ----- \n",
      " 0   동이름     28 non-null     object\n",
      " 1   인원수     28 non-null     int64 \n",
      " 2   선명      28 non-null     object\n",
      " 3   역명      28 non-null     object\n",
      "dtypes: int64(1), object(3)\n",
      "memory usage: 1.1+ KB\n"
     ]
    }
   ],
   "source": [
    "# merging data\n",
    "merged = pd.merge(\n",
    "    left=this_barplot_data.groupby(by='동이름').sum().reset_index(),\n",
    "    right=df_no_duplicated,\n",
    "    how='left',\n",
    "    on='동이름'\n",
    "    )\n",
    "\n",
    "merged = merged[~merged['역명'].isna()]\n",
    "merged.info()"
   ]
  },
  {
   "cell_type": "code",
   "execution_count": 20,
   "metadata": {},
   "outputs": [
    {
     "data": {
      "text/html": [
       "<div>\n",
       "<style scoped>\n",
       "    .dataframe tbody tr th:only-of-type {\n",
       "        vertical-align: middle;\n",
       "    }\n",
       "\n",
       "    .dataframe tbody tr th {\n",
       "        vertical-align: top;\n",
       "    }\n",
       "\n",
       "    .dataframe thead th {\n",
       "        text-align: right;\n",
       "    }\n",
       "</style>\n",
       "<table border=\"1\" class=\"dataframe\">\n",
       "  <thead>\n",
       "    <tr style=\"text-align: right;\">\n",
       "      <th></th>\n",
       "      <th>동이름</th>\n",
       "      <th>인원수</th>\n",
       "      <th>선명</th>\n",
       "      <th>역명</th>\n",
       "    </tr>\n",
       "  </thead>\n",
       "  <tbody>\n",
       "    <tr>\n",
       "      <th>0</th>\n",
       "      <td>감삼동</td>\n",
       "      <td>61756</td>\n",
       "      <td>2호선</td>\n",
       "      <td>감삼</td>\n",
       "    </tr>\n",
       "    <tr>\n",
       "      <th>7</th>\n",
       "      <td>구암동</td>\n",
       "      <td>11497</td>\n",
       "      <td>3호선</td>\n",
       "      <td>구암</td>\n",
       "    </tr>\n",
       "    <tr>\n",
       "      <th>9</th>\n",
       "      <td>남산동</td>\n",
       "      <td>148547</td>\n",
       "      <td>1호선</td>\n",
       "      <td>명덕(2.28민주운동기념회관)</td>\n",
       "    </tr>\n",
       "    <tr>\n",
       "      <th>10</th>\n",
       "      <td>내당동</td>\n",
       "      <td>102185</td>\n",
       "      <td>2호선</td>\n",
       "      <td>내당</td>\n",
       "    </tr>\n",
       "    <tr>\n",
       "      <th>12</th>\n",
       "      <td>대명동</td>\n",
       "      <td>348445</td>\n",
       "      <td>1호선</td>\n",
       "      <td>교대</td>\n",
       "    </tr>\n",
       "  </tbody>\n",
       "</table>\n",
       "</div>"
      ],
      "text/plain": [
       "    동이름     인원수   선명                역명\n",
       "0   감삼동   61756  2호선                감삼\n",
       "7   구암동   11497  3호선                구암\n",
       "9   남산동  148547  1호선  명덕(2.28민주운동기념회관)\n",
       "10  내당동  102185  2호선                내당\n",
       "12  대명동  348445  1호선                교대"
      ]
     },
     "execution_count": 20,
     "metadata": {},
     "output_type": "execute_result"
    }
   ],
   "source": [
    "# check\n",
    "merged.head(5)"
   ]
  },
  {
   "cell_type": "markdown",
   "metadata": {},
   "source": [
    "## 네 번째 시각화🍫\n",
    "- 지하철역이 있는 행정구역의 유동인구를 시각화한다.\n",
    "- 두 번째 시각화 자료와 비교한다.\n",
    "- 이를 통해, 예측하거나 적용해볼 수 있는 상황을 추론해본다.\n",
    "- bar 그래프를 적용한다."
   ]
  },
  {
   "cell_type": "code",
   "execution_count": 21,
   "metadata": {},
   "outputs": [
    {
     "data": {
      "text/plain": [
       "<AxesSubplot:xlabel='동이름', ylabel='인원수'>"
      ]
     },
     "execution_count": 21,
     "metadata": {},
     "output_type": "execute_result"
    },
    {
     "data": {
      "image/png": "[encoded data removed]",
      "text/plain": [
       "<Figure size 1296x720 with 1 Axes>"
      ]
     },
     "metadata": {},
     "output_type": "display_data"
    }
   ],
   "source": [
    "sns.set_style('dark')\n",
    "sns.set(font_scale = 1.5)\n",
    "rc('font', family=font_name)\n",
    "\n",
    "plt.figure(figsize=(18,10))\n",
    "\n",
    "this_barplot_options_merged = {\n",
    "    'data':merged.sort_values('인원수').tail(6),\n",
    "    'x':'동이름',\n",
    "    'y':'인원수'\n",
    "}\n",
    "# 여러 동을 합쳤기 때문에 이전의 그래프와 차이가 있다.\n",
    "sns.barplot(**this_barplot_options_merged)"
   ]
  },
  {
   "cell_type": "code",
   "execution_count": 22,
   "metadata": {},
   "outputs": [
    {
     "name": "stdout",
     "output_type": "stream",
     "text": [
      "<class 'pandas.core.frame.DataFrame'>\n",
      "RangeIndex: 96372 entries, 0 to 96371\n",
      "Data columns (total 39 columns):\n",
      " #   Column     Non-Null Count  Dtype  \n",
      "---  ------     --------------  -----  \n",
      " 0   상가업소번호     96372 non-null  int64  \n",
      " 1   상호명        96372 non-null  object \n",
      " 2   지점명        14764 non-null  object \n",
      " 3   상권업종대분류코드  96372 non-null  object \n",
      " 4   상권업종대분류명   96372 non-null  object \n",
      " 5   상권업종중분류코드  96372 non-null  object \n",
      " 6   상권업종중분류명   96372 non-null  object \n",
      " 7   상권업종소분류코드  96372 non-null  object \n",
      " 8   상권업종소분류명   96372 non-null  object \n",
      " 9   표준산업분류코드   90503 non-null  object \n",
      " 10  표준산업분류명    90503 non-null  object \n",
      " 11  시도코드       96372 non-null  int64  \n",
      " 12  시도명        96372 non-null  object \n",
      " 13  시군구코드      96372 non-null  int64  \n",
      " 14  시군구명       96372 non-null  object \n",
      " 15  행정동코드      96372 non-null  int64  \n",
      " 16  행정동명       96364 non-null  object \n",
      " 17  법정동코드      96368 non-null  float64\n",
      " 18  법정동명       96368 non-null  object \n",
      " 19  지번코드       96372 non-null  int64  \n",
      " 20  대지구분코드     96372 non-null  int64  \n",
      " 21  대지구분명      96372 non-null  object \n",
      " 22  지번본번지      96372 non-null  int64  \n",
      " 23  지번부번지      74750 non-null  float64\n",
      " 24  지번주소       96372 non-null  object \n",
      " 25  도로명코드      96372 non-null  int64  \n",
      " 26  도로명        96372 non-null  object \n",
      " 27  건물본번지      96372 non-null  int64  \n",
      " 28  건물부번지      16749 non-null  float64\n",
      " 29  건물관리번호     96372 non-null  object \n",
      " 30  건물명        23214 non-null  object \n",
      " 31  도로명주소      96372 non-null  object \n",
      " 32  구우편번호      96372 non-null  int64  \n",
      " 33  신우편번호      96353 non-null  float64\n",
      " 34  동정보        11761 non-null  object \n",
      " 35  층정보        38224 non-null  object \n",
      " 36  호정보        0 non-null      float64\n",
      " 37  경도         96372 non-null  float64\n",
      " 38  위도         96372 non-null  float64\n",
      "dtypes: float64(7), int64(10), object(22)\n",
      "memory usage: 28.7+ MB\n"
     ]
    },
    {
     "name": "stderr",
     "output_type": "stream",
     "text": [
      "C:\\Users\\kdh\\AppData\\Local\\Temp/ipykernel_5432/1273852910.py:1: DtypeWarning: Columns (35) have mixed types.Specify dtype option on import or set low_memory=False.\n",
      "  store = get_dataframe('store_info','대구.csv')\n"
     ]
    }
   ],
   "source": [
    "store = get_dataframe('store_info','대구.csv')\n",
    "\n",
    "store.info()"
   ]
  },
  {
   "cell_type": "code",
   "execution_count": 23,
   "metadata": {},
   "outputs": [
    {
     "data": {
      "text/html": [
       "<div>\n",
       "<style scoped>\n",
       "    .dataframe tbody tr th:only-of-type {\n",
       "        vertical-align: middle;\n",
       "    }\n",
       "\n",
       "    .dataframe tbody tr th {\n",
       "        vertical-align: top;\n",
       "    }\n",
       "\n",
       "    .dataframe thead th {\n",
       "        text-align: right;\n",
       "    }\n",
       "</style>\n",
       "<table border=\"1\" class=\"dataframe\">\n",
       "  <thead>\n",
       "    <tr style=\"text-align: right;\">\n",
       "      <th></th>\n",
       "      <th>상가업소번호</th>\n",
       "      <th>상호명</th>\n",
       "      <th>지점명</th>\n",
       "      <th>상권업종대분류코드</th>\n",
       "      <th>상권업종대분류명</th>\n",
       "      <th>상권업종중분류코드</th>\n",
       "      <th>상권업종중분류명</th>\n",
       "      <th>상권업종소분류코드</th>\n",
       "      <th>상권업종소분류명</th>\n",
       "      <th>표준산업분류코드</th>\n",
       "      <th>...</th>\n",
       "      <th>건물관리번호</th>\n",
       "      <th>건물명</th>\n",
       "      <th>도로명주소</th>\n",
       "      <th>구우편번호</th>\n",
       "      <th>신우편번호</th>\n",
       "      <th>동정보</th>\n",
       "      <th>층정보</th>\n",
       "      <th>호정보</th>\n",
       "      <th>경도</th>\n",
       "      <th>위도</th>\n",
       "    </tr>\n",
       "  </thead>\n",
       "  <tbody>\n",
       "    <tr>\n",
       "      <th>0</th>\n",
       "      <td>20547760</td>\n",
       "      <td>옛날포장마차</td>\n",
       "      <td>NaN</td>\n",
       "      <td>Q</td>\n",
       "      <td>음식</td>\n",
       "      <td>Q09</td>\n",
       "      <td>유흥주점</td>\n",
       "      <td>Q09A02</td>\n",
       "      <td>소주방/포장마차</td>\n",
       "      <td>I56219</td>\n",
       "      <td>...</td>\n",
       "      <td>2717010200113270001025963</td>\n",
       "      <td>NaN</td>\n",
       "      <td>대구광역시 서구 달서천로41길 22</td>\n",
       "      <td>703040</td>\n",
       "      <td>41723.0</td>\n",
       "      <td>NaN</td>\n",
       "      <td>NaN</td>\n",
       "      <td>NaN</td>\n",
       "      <td>128.558109</td>\n",
       "      <td>35.884908</td>\n",
       "    </tr>\n",
       "    <tr>\n",
       "      <th>1</th>\n",
       "      <td>23801062</td>\n",
       "      <td>으뜸전산컴퓨터</td>\n",
       "      <td>NaN</td>\n",
       "      <td>D</td>\n",
       "      <td>소매</td>\n",
       "      <td>D08</td>\n",
       "      <td>사무/문구/컴퓨터</td>\n",
       "      <td>D08A03</td>\n",
       "      <td>컴퓨터/사무용기기종합</td>\n",
       "      <td>G47311</td>\n",
       "      <td>...</td>\n",
       "      <td>2729010200101500003022439</td>\n",
       "      <td>NaN</td>\n",
       "      <td>대구광역시 달서구 달구벌대로 1770</td>\n",
       "      <td>704060</td>\n",
       "      <td>42659.0</td>\n",
       "      <td>NaN</td>\n",
       "      <td>NaN</td>\n",
       "      <td>NaN</td>\n",
       "      <td>128.558718</td>\n",
       "      <td>35.858010</td>\n",
       "    </tr>\n",
       "    <tr>\n",
       "      <th>2</th>\n",
       "      <td>20549469</td>\n",
       "      <td>박가냉면</td>\n",
       "      <td>NaN</td>\n",
       "      <td>Q</td>\n",
       "      <td>음식</td>\n",
       "      <td>Q01</td>\n",
       "      <td>한식</td>\n",
       "      <td>Q01A01</td>\n",
       "      <td>한식/백반/한정식</td>\n",
       "      <td>I56111</td>\n",
       "      <td>...</td>\n",
       "      <td>2714011000110210000008286</td>\n",
       "      <td>문화아파트</td>\n",
       "      <td>대구광역시 동구 동촌로14길 14</td>\n",
       "      <td>701862</td>\n",
       "      <td>41155.0</td>\n",
       "      <td>NaN</td>\n",
       "      <td>1</td>\n",
       "      <td>NaN</td>\n",
       "      <td>128.649065</td>\n",
       "      <td>35.887930</td>\n",
       "    </tr>\n",
       "  </tbody>\n",
       "</table>\n",
       "<p>3 rows × 39 columns</p>\n",
       "</div>"
      ],
      "text/plain": [
       "     상가업소번호      상호명  지점명 상권업종대분류코드 상권업종대분류명 상권업종중분류코드   상권업종중분류명 상권업종소분류코드  \\\n",
       "0  20547760   옛날포장마차  NaN         Q       음식       Q09       유흥주점    Q09A02   \n",
       "1  23801062  으뜸전산컴퓨터  NaN         D       소매       D08  사무/문구/컴퓨터    D08A03   \n",
       "2  20549469     박가냉면  NaN         Q       음식       Q01         한식    Q01A01   \n",
       "\n",
       "      상권업종소분류명 표준산업분류코드  ...                     건물관리번호    건물명  \\\n",
       "0     소주방/포장마차   I56219  ...  2717010200113270001025963    NaN   \n",
       "1  컴퓨터/사무용기기종합   G47311  ...  2729010200101500003022439    NaN   \n",
       "2    한식/백반/한정식   I56111  ...  2714011000110210000008286  문화아파트   \n",
       "\n",
       "                  도로명주소   구우편번호    신우편번호  동정보  층정보  호정보          경도         위도  \n",
       "0   대구광역시 서구 달서천로41길 22  703040  41723.0  NaN  NaN  NaN  128.558109  35.884908  \n",
       "1  대구광역시 달서구 달구벌대로 1770  704060  42659.0  NaN  NaN  NaN  128.558718  35.858010  \n",
       "2    대구광역시 동구 동촌로14길 14  701862  41155.0  NaN    1  NaN  128.649065  35.887930  \n",
       "\n",
       "[3 rows x 39 columns]"
      ]
     },
     "execution_count": 23,
     "metadata": {},
     "output_type": "execute_result"
    }
   ],
   "source": [
    "store.head(3)"
   ]
  },
  {
   "cell_type": "code",
   "execution_count": 24,
   "metadata": {},
   "outputs": [
    {
     "data": {
      "text/html": [
       "<div>\n",
       "<style scoped>\n",
       "    .dataframe tbody tr th:only-of-type {\n",
       "        vertical-align: middle;\n",
       "    }\n",
       "\n",
       "    .dataframe tbody tr th {\n",
       "        vertical-align: top;\n",
       "    }\n",
       "\n",
       "    .dataframe thead th {\n",
       "        text-align: right;\n",
       "    }\n",
       "</style>\n",
       "<table border=\"1\" class=\"dataframe\">\n",
       "  <thead>\n",
       "    <tr style=\"text-align: right;\">\n",
       "      <th></th>\n",
       "      <th>상호명</th>\n",
       "      <th>상권업종대분류명</th>\n",
       "      <th>상권업종중분류명</th>\n",
       "      <th>상권업종소분류명</th>\n",
       "      <th>행정동명</th>\n",
       "      <th>법정동명</th>\n",
       "      <th>지번주소</th>\n",
       "      <th>경도</th>\n",
       "      <th>위도</th>\n",
       "    </tr>\n",
       "  </thead>\n",
       "  <tbody>\n",
       "    <tr>\n",
       "      <th>0</th>\n",
       "      <td>옛날포장마차</td>\n",
       "      <td>음식</td>\n",
       "      <td>유흥주점</td>\n",
       "      <td>소주방/포장마차</td>\n",
       "      <td>비산7동</td>\n",
       "      <td>비산동</td>\n",
       "      <td>대구광역시 서구 비산동 1327-1</td>\n",
       "      <td>128.558109</td>\n",
       "      <td>35.884908</td>\n",
       "    </tr>\n",
       "    <tr>\n",
       "      <th>2</th>\n",
       "      <td>박가냉면</td>\n",
       "      <td>음식</td>\n",
       "      <td>한식</td>\n",
       "      <td>한식/백반/한정식</td>\n",
       "      <td>동촌동</td>\n",
       "      <td>검사동</td>\n",
       "      <td>대구광역시 동구 검사동 1021</td>\n",
       "      <td>128.649065</td>\n",
       "      <td>35.887930</td>\n",
       "    </tr>\n",
       "    <tr>\n",
       "      <th>4</th>\n",
       "      <td>장충동왕족발</td>\n",
       "      <td>음식</td>\n",
       "      <td>한식</td>\n",
       "      <td>족발/보쌈전문</td>\n",
       "      <td>칠성동</td>\n",
       "      <td>칠성동2가</td>\n",
       "      <td>대구광역시 북구 칠성동2가 20-1</td>\n",
       "      <td>128.589799</td>\n",
       "      <td>35.885235</td>\n",
       "    </tr>\n",
       "    <tr>\n",
       "      <th>13</th>\n",
       "      <td>굽네치킨</td>\n",
       "      <td>음식</td>\n",
       "      <td>닭/오리요리</td>\n",
       "      <td>후라이드/양념치킨</td>\n",
       "      <td>지산2동</td>\n",
       "      <td>지산동</td>\n",
       "      <td>대구광역시 수성구 지산동 1272-2</td>\n",
       "      <td>128.633540</td>\n",
       "      <td>35.821523</td>\n",
       "    </tr>\n",
       "    <tr>\n",
       "      <th>20</th>\n",
       "      <td>닭S포차</td>\n",
       "      <td>음식</td>\n",
       "      <td>유흥주점</td>\n",
       "      <td>소주방/포장마차</td>\n",
       "      <td>비산2.3동</td>\n",
       "      <td>비산동</td>\n",
       "      <td>대구광역시 서구 비산동 504-15</td>\n",
       "      <td>128.571700</td>\n",
       "      <td>35.877309</td>\n",
       "    </tr>\n",
       "    <tr>\n",
       "      <th>...</th>\n",
       "      <td>...</td>\n",
       "      <td>...</td>\n",
       "      <td>...</td>\n",
       "      <td>...</td>\n",
       "      <td>...</td>\n",
       "      <td>...</td>\n",
       "      <td>...</td>\n",
       "      <td>...</td>\n",
       "      <td>...</td>\n",
       "    </tr>\n",
       "    <tr>\n",
       "      <th>96355</th>\n",
       "      <td>고기근본</td>\n",
       "      <td>음식</td>\n",
       "      <td>한식</td>\n",
       "      <td>갈비/삼겹살</td>\n",
       "      <td>신암2동</td>\n",
       "      <td>신암동</td>\n",
       "      <td>대구광역시 동구 신암동 1332-11</td>\n",
       "      <td>128.609621</td>\n",
       "      <td>35.877511</td>\n",
       "    </tr>\n",
       "    <tr>\n",
       "      <th>96364</th>\n",
       "      <td>빵을사랑하는사람들</td>\n",
       "      <td>음식</td>\n",
       "      <td>제과제빵떡케익</td>\n",
       "      <td>제과점</td>\n",
       "      <td>내당2.3동</td>\n",
       "      <td>내당동</td>\n",
       "      <td>대구광역시 서구 내당동 1005-1</td>\n",
       "      <td>128.575035</td>\n",
       "      <td>35.868416</td>\n",
       "    </tr>\n",
       "    <tr>\n",
       "      <th>96365</th>\n",
       "      <td>스트롤커피</td>\n",
       "      <td>음식</td>\n",
       "      <td>커피점/카페</td>\n",
       "      <td>커피전문점/카페/다방</td>\n",
       "      <td>대명2동</td>\n",
       "      <td>대명동</td>\n",
       "      <td>대구광역시 남구 대명동 1797-1</td>\n",
       "      <td>128.589790</td>\n",
       "      <td>35.851066</td>\n",
       "    </tr>\n",
       "    <tr>\n",
       "      <th>96369</th>\n",
       "      <td>제주본</td>\n",
       "      <td>음식</td>\n",
       "      <td>한식</td>\n",
       "      <td>갈비/삼겹살</td>\n",
       "      <td>두산동</td>\n",
       "      <td>두산동</td>\n",
       "      <td>대구광역시 수성구 두산동 660</td>\n",
       "      <td>128.622726</td>\n",
       "      <td>35.827005</td>\n",
       "    </tr>\n",
       "    <tr>\n",
       "      <th>96370</th>\n",
       "      <td>에그롤</td>\n",
       "      <td>음식</td>\n",
       "      <td>분식</td>\n",
       "      <td>라면김밥분식</td>\n",
       "      <td>범어1동</td>\n",
       "      <td>범어동</td>\n",
       "      <td>대구광역시 수성구 범어동 790-2</td>\n",
       "      <td>128.624160</td>\n",
       "      <td>35.857499</td>\n",
       "    </tr>\n",
       "  </tbody>\n",
       "</table>\n",
       "<p>32948 rows × 9 columns</p>\n",
       "</div>"
      ],
      "text/plain": [
       "             상호명 상권업종대분류명 상권업종중분류명     상권업종소분류명    행정동명   법정동명  \\\n",
       "0         옛날포장마차       음식     유흥주점     소주방/포장마차    비산7동    비산동   \n",
       "2           박가냉면       음식       한식    한식/백반/한정식     동촌동    검사동   \n",
       "4         장충동왕족발       음식       한식      족발/보쌈전문     칠성동  칠성동2가   \n",
       "13          굽네치킨       음식   닭/오리요리    후라이드/양념치킨    지산2동    지산동   \n",
       "20          닭S포차       음식     유흥주점     소주방/포장마차  비산2.3동    비산동   \n",
       "...          ...      ...      ...          ...     ...    ...   \n",
       "96355       고기근본       음식       한식       갈비/삼겹살    신암2동    신암동   \n",
       "96364  빵을사랑하는사람들       음식  제과제빵떡케익          제과점  내당2.3동    내당동   \n",
       "96365      스트롤커피       음식   커피점/카페  커피전문점/카페/다방    대명2동    대명동   \n",
       "96369        제주본       음식       한식       갈비/삼겹살     두산동    두산동   \n",
       "96370        에그롤       음식       분식       라면김밥분식    범어1동    범어동   \n",
       "\n",
       "                       지번주소          경도         위도  \n",
       "0       대구광역시 서구 비산동 1327-1  128.558109  35.884908  \n",
       "2         대구광역시 동구 검사동 1021  128.649065  35.887930  \n",
       "4       대구광역시 북구 칠성동2가 20-1  128.589799  35.885235  \n",
       "13     대구광역시 수성구 지산동 1272-2  128.633540  35.821523  \n",
       "20      대구광역시 서구 비산동 504-15  128.571700  35.877309  \n",
       "...                     ...         ...        ...  \n",
       "96355  대구광역시 동구 신암동 1332-11  128.609621  35.877511  \n",
       "96364   대구광역시 서구 내당동 1005-1  128.575035  35.868416  \n",
       "96365   대구광역시 남구 대명동 1797-1  128.589790  35.851066  \n",
       "96369     대구광역시 수성구 두산동 660  128.622726  35.827005  \n",
       "96370   대구광역시 수성구 범어동 790-2  128.624160  35.857499  \n",
       "\n",
       "[32948 rows x 9 columns]"
      ]
     },
     "execution_count": 24,
     "metadata": {},
     "output_type": "execute_result"
    }
   ],
   "source": [
    "# 필요한 데이터만 추출\n",
    "store_col_index = [1,4,6,8,16,18,24,37,38]\n",
    "\n",
    "preprocessed = store.iloc[:,store_col_index]\n",
    "\n",
    "cond_first = preprocessed['상권업종대분류명'] == '음식'\n",
    "cond_sec = ~preprocessed['행정동명'].isna()\n",
    "cond_thd = ~preprocessed['법정동명'].isna()\n",
    "\n",
    "food = preprocessed[cond_first&cond_sec&cond_thd]\n",
    "\n",
    "food"
   ]
  },
  {
   "cell_type": "code",
   "execution_count": 25,
   "metadata": {},
   "outputs": [
    {
     "data": {
      "text/plain": [
       "array(['비산동', '동촌동', '칠성동', '지산동', '원대동', '해안동', '봉산동', '황금동', '두류동',\n",
       "       '범물동', '두산동', '이곡동', '범어동', '삼덕동', '성내2동', '이천동', '가창면', '화원읍',\n",
       "       '관문동', '구지면', '복현동', '대명동', '수성동2가', '신당동', '평리동', '논공읍', '덕산동',\n",
       "       '동인동', '다사읍', '만촌동', '효목동', '본리동', '신천동', '율하동', '송현동', '대신동',\n",
       "       '산격동', '대현동', '공산동', '상인동', '문화동', '동천동', '구암동', '동변동', '용산동',\n",
       "       '읍내동', '신매동', '불로동', '중리동', '죽전동', '동문동', '신암동', '본동', '봉덕동',\n",
       "       '수성동3가', '서변동', '현풍읍', '진천동', '내당동', '옥포읍', '교동', '봉무동', '상동',\n",
       "       '유가읍', '동호동', '성당동', '도원동', '감삼동', '중동', '공평동', '월성동', '파동', '수창동',\n",
       "       '시지동', '남산동', '장기동', '관음동', '태전동', '대흥동', '성내1동', '하빈면', '장동',\n",
       "       '신기동', '노원동', '유가면', '옥포면', '방촌동', '혁신동', '대봉동', '매호동', '침산동',\n",
       "       '수동', '고성동', '지저동', '향촌동', '수성4가동', '도동', '현풍면', '월암동', '검단동',\n",
       "       '신서동', '남일동', '수성1가동', '국우동', '용계동', '대천동', '사일동', '대안동', '상리동',\n",
       "       '동산동', '인교동', '전동', '포정동', '욱수동', '조야동', '성동', '달성동', '괴전동', '매여동',\n",
       "       '성내3동', '남성로', '연경동', '연호동', '이현동', '서호동', '동일동', '상서동', '완전동',\n",
       "       '화전동', '장관동', '갈산동', '각산동', '부동', '사월동', '가천동', '금강동', '고모동',\n",
       "       '서내동', '북내동', '노변동', '용덕동', '상매동', '서야동', '내곡동', '하서동', '숙천동',\n",
       "       '상덕동', '도평동', '동내동', '율암동'], dtype=object)"
      ]
     },
     "execution_count": 25,
     "metadata": {},
     "output_type": "execute_result"
    }
   ],
   "source": [
    "# 동이름 전처리\n",
    "\n",
    "district_adm = food['행정동명'].to_list()\n",
    "district_law = food['법정동명'].to_list()\n",
    "\n",
    "merged_district_name = []\n",
    "for i,j in zip(district_adm,district_law):\n",
    "    added = i if  len(i) <=len(j) else j\n",
    "    merged_district_name.append(added)\n",
    "    \n",
    "merged_district_name = pd.Series(merged_district_name,name='동이름')\n",
    "\n",
    "merged_district_name.unique()"
   ]
  },
  {
   "cell_type": "code",
   "execution_count": 26,
   "metadata": {},
   "outputs": [
    {
     "data": {
      "text/html": [
       "<div>\n",
       "<style scoped>\n",
       "    .dataframe tbody tr th:only-of-type {\n",
       "        vertical-align: middle;\n",
       "    }\n",
       "\n",
       "    .dataframe tbody tr th {\n",
       "        vertical-align: top;\n",
       "    }\n",
       "\n",
       "    .dataframe thead th {\n",
       "        text-align: right;\n",
       "    }\n",
       "</style>\n",
       "<table border=\"1\" class=\"dataframe\">\n",
       "  <thead>\n",
       "    <tr style=\"text-align: right;\">\n",
       "      <th></th>\n",
       "      <th>상호명</th>\n",
       "      <th>상권업종대분류명</th>\n",
       "      <th>상권업종중분류명</th>\n",
       "      <th>상권업종소분류명</th>\n",
       "      <th>경도</th>\n",
       "      <th>위도</th>\n",
       "      <th>동이름</th>\n",
       "    </tr>\n",
       "  </thead>\n",
       "  <tbody>\n",
       "    <tr>\n",
       "      <th>0</th>\n",
       "      <td>옛날포장마차</td>\n",
       "      <td>음식</td>\n",
       "      <td>유흥주점</td>\n",
       "      <td>소주방/포장마차</td>\n",
       "      <td>128.558109</td>\n",
       "      <td>35.884908</td>\n",
       "      <td>비산동</td>\n",
       "    </tr>\n",
       "    <tr>\n",
       "      <th>1</th>\n",
       "      <td>박가냉면</td>\n",
       "      <td>음식</td>\n",
       "      <td>한식</td>\n",
       "      <td>한식/백반/한정식</td>\n",
       "      <td>128.649065</td>\n",
       "      <td>35.887930</td>\n",
       "      <td>동촌동</td>\n",
       "    </tr>\n",
       "    <tr>\n",
       "      <th>2</th>\n",
       "      <td>장충동왕족발</td>\n",
       "      <td>음식</td>\n",
       "      <td>한식</td>\n",
       "      <td>족발/보쌈전문</td>\n",
       "      <td>128.589799</td>\n",
       "      <td>35.885235</td>\n",
       "      <td>칠성동</td>\n",
       "    </tr>\n",
       "    <tr>\n",
       "      <th>3</th>\n",
       "      <td>굽네치킨</td>\n",
       "      <td>음식</td>\n",
       "      <td>닭/오리요리</td>\n",
       "      <td>후라이드/양념치킨</td>\n",
       "      <td>128.633540</td>\n",
       "      <td>35.821523</td>\n",
       "      <td>지산동</td>\n",
       "    </tr>\n",
       "    <tr>\n",
       "      <th>4</th>\n",
       "      <td>닭S포차</td>\n",
       "      <td>음식</td>\n",
       "      <td>유흥주점</td>\n",
       "      <td>소주방/포장마차</td>\n",
       "      <td>128.571700</td>\n",
       "      <td>35.877309</td>\n",
       "      <td>비산동</td>\n",
       "    </tr>\n",
       "    <tr>\n",
       "      <th>...</th>\n",
       "      <td>...</td>\n",
       "      <td>...</td>\n",
       "      <td>...</td>\n",
       "      <td>...</td>\n",
       "      <td>...</td>\n",
       "      <td>...</td>\n",
       "      <td>...</td>\n",
       "    </tr>\n",
       "    <tr>\n",
       "      <th>32943</th>\n",
       "      <td>고기근본</td>\n",
       "      <td>음식</td>\n",
       "      <td>한식</td>\n",
       "      <td>갈비/삼겹살</td>\n",
       "      <td>128.609621</td>\n",
       "      <td>35.877511</td>\n",
       "      <td>신암동</td>\n",
       "    </tr>\n",
       "    <tr>\n",
       "      <th>32944</th>\n",
       "      <td>빵을사랑하는사람들</td>\n",
       "      <td>음식</td>\n",
       "      <td>제과제빵떡케익</td>\n",
       "      <td>제과점</td>\n",
       "      <td>128.575035</td>\n",
       "      <td>35.868416</td>\n",
       "      <td>내당동</td>\n",
       "    </tr>\n",
       "    <tr>\n",
       "      <th>32945</th>\n",
       "      <td>스트롤커피</td>\n",
       "      <td>음식</td>\n",
       "      <td>커피점/카페</td>\n",
       "      <td>커피전문점/카페/다방</td>\n",
       "      <td>128.589790</td>\n",
       "      <td>35.851066</td>\n",
       "      <td>대명동</td>\n",
       "    </tr>\n",
       "    <tr>\n",
       "      <th>32946</th>\n",
       "      <td>제주본</td>\n",
       "      <td>음식</td>\n",
       "      <td>한식</td>\n",
       "      <td>갈비/삼겹살</td>\n",
       "      <td>128.622726</td>\n",
       "      <td>35.827005</td>\n",
       "      <td>두산동</td>\n",
       "    </tr>\n",
       "    <tr>\n",
       "      <th>32947</th>\n",
       "      <td>에그롤</td>\n",
       "      <td>음식</td>\n",
       "      <td>분식</td>\n",
       "      <td>라면김밥분식</td>\n",
       "      <td>128.624160</td>\n",
       "      <td>35.857499</td>\n",
       "      <td>범어동</td>\n",
       "    </tr>\n",
       "  </tbody>\n",
       "</table>\n",
       "<p>32948 rows × 7 columns</p>\n",
       "</div>"
      ],
      "text/plain": [
       "             상호명 상권업종대분류명 상권업종중분류명     상권업종소분류명          경도         위도  동이름\n",
       "0         옛날포장마차       음식     유흥주점     소주방/포장마차  128.558109  35.884908  비산동\n",
       "1           박가냉면       음식       한식    한식/백반/한정식  128.649065  35.887930  동촌동\n",
       "2         장충동왕족발       음식       한식      족발/보쌈전문  128.589799  35.885235  칠성동\n",
       "3           굽네치킨       음식   닭/오리요리    후라이드/양념치킨  128.633540  35.821523  지산동\n",
       "4           닭S포차       음식     유흥주점     소주방/포장마차  128.571700  35.877309  비산동\n",
       "...          ...      ...      ...          ...         ...        ...  ...\n",
       "32943       고기근본       음식       한식       갈비/삼겹살  128.609621  35.877511  신암동\n",
       "32944  빵을사랑하는사람들       음식  제과제빵떡케익          제과점  128.575035  35.868416  내당동\n",
       "32945      스트롤커피       음식   커피점/카페  커피전문점/카페/다방  128.589790  35.851066  대명동\n",
       "32946        제주본       음식       한식       갈비/삼겹살  128.622726  35.827005  두산동\n",
       "32947        에그롤       음식       분식       라면김밥분식  128.624160  35.857499  범어동\n",
       "\n",
       "[32948 rows x 7 columns]"
      ]
     },
     "execution_count": 26,
     "metadata": {},
     "output_type": "execute_result"
    }
   ],
   "source": [
    "food_n = food.drop(columns=['행정동명','법정동명'])\n",
    "food_n.index = list(range(int(food_n.shape[0])))\n",
    "\n",
    "df_food = pd.merge(\n",
    "    left=food_n,\n",
    "    right=merged_district_name,\n",
    "    how='inner',\n",
    "    left_index=True,right_index=True).drop(columns=['지번주소'])\n",
    "\n",
    "df_food"
   ]
  },
  {
   "cell_type": "code",
   "execution_count": 27,
   "metadata": {},
   "outputs": [
    {
     "data": {
      "text/plain": [
       "0        비산동\n",
       "1        동촌동\n",
       "2        칠성동\n",
       "3        지산동\n",
       "4        비산동\n",
       "        ... \n",
       "32943    신암동\n",
       "32944    내당동\n",
       "32945    대명동\n",
       "32946    두산동\n",
       "32947    범어동\n",
       "Name: 동이름, Length: 32948, dtype: object"
      ]
     },
     "execution_count": 27,
     "metadata": {},
     "output_type": "execute_result"
    }
   ],
   "source": [
    "df_food['동이름'] = df_food['동이름'].copy().str.replace(\n",
    "    '(.*)[1-9](.*)',r'\\1\\2',regex=True\n",
    "    ).replace(\n",
    "        '(.*)[1-9](.*)',r'\\1\\2',regex=True\n",
    "        )\n",
    "        \n",
    "df_food[df_food['동이름'] == '수성동가'] = '수성동'\n",
    "df_food[df_food['동이름'] == '수성가동'] = '수성동'\n",
    "\n",
    "df_food['동이름']"
   ]
  },
  {
   "cell_type": "code",
   "execution_count": 28,
   "metadata": {},
   "outputs": [
    {
     "name": "stdout",
     "output_type": "stream",
     "text": [
      "['소주방/포장마차' '한식/백반/한정식' '족발/보쌈전문' '후라이드/양념치킨' '해장국/감자탕' '보리밥전문' '기타일반유흥주점'\n",
      " '음식출장조달' '룸살롱/단란주점' '사철탕전문' '음식점-일식' '한정식전문' '커피전문점/카페/다방' '제과점' '호프/맥주'\n",
      " '닭내장/닭발요리' '떡전문' '매운탕전문' '수성동' '곱창/양구이전문' '라면김밥분식' '중국음식/중국집' '갈비/삼겹살'\n",
      " '바베큐전문' '찜닭전문점' '피자전문' '꼬치구이전문점' '기타고기요리' '국수/만두/칼국수' '수산물전문음식점-종합'\n",
      " '바닷가재/게요리전문' '구내식당/자급식음식점' '냉면집' '복전문' '떡볶이전문' '오리고기전문' '순대전문점' '해물찜/탕전문'\n",
      " '음식점-초밥전문' '낙지/오징어' '추어탕전문' '정통양식/경양식' '부대찌개/섞어찌개' '도시락전문점' '빠/카페/스탠드빠'\n",
      " '토스트전문' '한식부페' '애견카페' '굴요리전문' '민속주점' '설렁탕집' '죽전문점' '관광/유흥주점' '삼계탕전문'\n",
      " '돌솥/비빕밥전문점' '곰장어전문' '횟집' '종합부페' '국/찌개배달' '패스트푸드' '민물장어전문' '스낵' '아이스크림판매'\n",
      " '야식집' '패밀리레스토랑' '전통찻집/인삼찻집' '조개구이전문' '닭갈비전문' '아구전문' '스파게티전문점' '돈가스전문점'\n",
      " '기사식당' '고등어전문' '우동전문점' '홍어전문' '케익전문점' '게장전문' '탕수육전문점' '옻닭전문' '샤브샤브전문'\n",
      " '핫도그' '동남아음식전문점' '파전전문' '갈치/생선구이' '고속도로휴게소' '샌드위치전문점' '기타전문서양음식점' '쌈밥전문'\n",
      " '닭도리탕전문' '순두부전문' '참치전문점' '퓨전음식전문' '떡/한과집' '도너츠전문' '두부요리전문' '황태전문' '고기부페'\n",
      " '재첩국전문' '불닭전문' '생과일주스전문점' '버섯전문점' '스테이크전문점' '국도휴게소' '사주카페' '토종닭전문' '찐빵전문'\n",
      " '철판구이요리전문' '카레전문점' '로바다야끼' '붕어찜전문' '돌구이요리전문' '생과자점' '락카페' '보드게임카페'\n",
      " '유산균아이스크림전문']\n"
     ]
    }
   ],
   "source": [
    "print(df_food['상권업종소분류명'].unique())"
   ]
  },
  {
   "cell_type": "code",
   "execution_count": 29,
   "metadata": {},
   "outputs": [
    {
     "data": {
      "text/html": [
       "<div>\n",
       "<style scoped>\n",
       "    .dataframe tbody tr th:only-of-type {\n",
       "        vertical-align: middle;\n",
       "    }\n",
       "\n",
       "    .dataframe tbody tr th {\n",
       "        vertical-align: top;\n",
       "    }\n",
       "\n",
       "    .dataframe thead th {\n",
       "        text-align: right;\n",
       "    }\n",
       "</style>\n",
       "<table border=\"1\" class=\"dataframe\">\n",
       "  <thead>\n",
       "    <tr style=\"text-align: right;\">\n",
       "      <th></th>\n",
       "      <th>동이름</th>\n",
       "      <th>상권업종중분류명</th>\n",
       "    </tr>\n",
       "  </thead>\n",
       "  <tbody>\n",
       "    <tr>\n",
       "      <th>38</th>\n",
       "      <td>도평동</td>\n",
       "      <td>1</td>\n",
       "    </tr>\n",
       "    <tr>\n",
       "      <th>39</th>\n",
       "      <td>동내동</td>\n",
       "      <td>1</td>\n",
       "    </tr>\n",
       "    <tr>\n",
       "      <th>88</th>\n",
       "      <td>숙천동</td>\n",
       "      <td>1</td>\n",
       "    </tr>\n",
       "    <tr>\n",
       "      <th>21</th>\n",
       "      <td>내곡동</td>\n",
       "      <td>1</td>\n",
       "    </tr>\n",
       "    <tr>\n",
       "      <th>71</th>\n",
       "      <td>상덕동</td>\n",
       "      <td>3</td>\n",
       "    </tr>\n",
       "    <tr>\n",
       "      <th>...</th>\n",
       "      <td>...</td>\n",
       "      <td>...</td>\n",
       "    </tr>\n",
       "    <tr>\n",
       "      <th>26</th>\n",
       "      <td>다사읍</td>\n",
       "      <td>832</td>\n",
       "    </tr>\n",
       "    <tr>\n",
       "      <th>76</th>\n",
       "      <td>상인동</td>\n",
       "      <td>861</td>\n",
       "    </tr>\n",
       "    <tr>\n",
       "      <th>69</th>\n",
       "      <td>산격동</td>\n",
       "      <td>885</td>\n",
       "    </tr>\n",
       "    <tr>\n",
       "      <th>66</th>\n",
       "      <td>비산동</td>\n",
       "      <td>899</td>\n",
       "    </tr>\n",
       "    <tr>\n",
       "      <th>28</th>\n",
       "      <td>대명동</td>\n",
       "      <td>1838</td>\n",
       "    </tr>\n",
       "  </tbody>\n",
       "</table>\n",
       "<p>145 rows × 2 columns</p>\n",
       "</div>"
      ],
      "text/plain": [
       "    동이름  상권업종중분류명\n",
       "38  도평동         1\n",
       "39  동내동         1\n",
       "88  숙천동         1\n",
       "21  내곡동         1\n",
       "71  상덕동         3\n",
       "..  ...       ...\n",
       "26  다사읍       832\n",
       "76  상인동       861\n",
       "69  산격동       885\n",
       "66  비산동       899\n",
       "28  대명동      1838\n",
       "\n",
       "[145 rows x 2 columns]"
      ]
     },
     "execution_count": 29,
     "metadata": {},
     "output_type": "execute_result"
    }
   ],
   "source": [
    "df_food_district_count = df_food[['동이름','상권업종중분류명']].groupby(by=['동이름']).count().reset_index()\n",
    "df_food_district_count.sort_values('상권업종중분류명')"
   ]
  },
  {
   "cell_type": "code",
   "execution_count": 30,
   "metadata": {},
   "outputs": [
    {
     "name": "stdout",
     "output_type": "stream",
     "text": [
      "['가창면', '가천동', '각산동', '갈산동', '감삼동', '검단동', '고모동', '고성동', '공산동', '공평동', '관문동', '관음동', '괴전동', '교동', '구암동', '구지면', '국우동', '금강동', '남산동', '남성로', '남일동', '내곡동', '내당동', '노변동', '노원동', '논공읍', '다사읍', '달성동', '대명동', '대봉동', '대신동', '대안동', '대천동', '대현동', '대흥동', '덕산동', '도동', '도원동', '도평동', '동내동', '동문동', '동변동', '동산동', '동인동', '동일동', '동천동', '동촌동', '동호동', '두류동', '두산동', '만촌동', '매여동', '매호동', '문화동', '방촌동', '범물동', '범어동', '복현동', '본동', '본리동', '봉덕동', '봉무동', '봉산동', '부동', '북내동', '불로동', '비산동', '사월동', '사일동', '산격동', '삼덕동', '상덕동', '상동', '상리동', '상매동', '상서동', '상인동', '서내동', '서변동', '서야동', '서호동', '성내동', '성당동', '성동', '송현동', '수동', '수성동', '수창동', '숙천동', '시지동', '신기동', '신당동', '신매동', '신서동', '신암동', '신천동', '연경동', '연호동', '옥포면', '옥포읍', '완전동', '용계동', '용덕동', '용산동', '욱수동', '원대동', '월성동', '월암동', '유가면', '유가읍', '율암동', '율하동', '읍내동', '이곡동', '이천동', '이현동', '인교동', '장관동', '장기동', '장동', '전동', '조야동', '죽전동', '중동', '중리동', '지산동', '지저동', '진천동', '칠성동', '침산동', '태전동', '파동', '평리동', '포정동', '하빈면', '하서동', '해안동', '향촌동', '혁신동', '현풍면', '현풍읍', '화원읍', '화전동', '황금동', '효목동']\n"
     ]
    }
   ],
   "source": [
    "print(sorted(df_food_district_count.sort_values('상권업종중분류명')['동이름'].tolist()))"
   ]
  },
  {
   "cell_type": "code",
   "execution_count": 31,
   "metadata": {},
   "outputs": [
    {
     "data": {
      "text/plain": [
       "Text(0, 0.5, '점포수')"
      ]
     },
     "execution_count": 31,
     "metadata": {},
     "output_type": "execute_result"
    },
    {
     "data": {
      "image/png": "[encoded data removed]",
      "text/plain": [
       "<Figure size 1080x576 with 1 Axes>"
      ]
     },
     "metadata": {},
     "output_type": "display_data"
    }
   ],
   "source": [
    "sns.set_style('dark')\n",
    "sns.set(font_scale = 1.5)\n",
    "rc('font', family=font_name)\n",
    "\n",
    "plt.figure(figsize=(15,8))\n",
    "this_barplot_options_count = {\n",
    "    'data':df_food_district_count.sort_values('상권업종중분류명').tail(6),\n",
    "    'x':'동이름',\n",
    "    'y':'상권업종중분류명'\n",
    "}\n",
    "\n",
    "\n",
    "sns.barplot(**this_barplot_options_count)\n",
    "plt.ylabel('점포수')"
   ]
  }
 ],
 "metadata": {
  "interpreter": {
   "hash": "cfb941727ad982b14dbdb31ad1f9e0e2b0a9c417afdb895a893d1469bb796694"
  },
  "kernelspec": {
   "display_name": "Python 3.9.7 ('analysis')",
   "language": "python",
   "name": "python3"
  },
  "language_info": {
   "codemirror_mode": {
    "name": "ipython",
    "version": 3
   },
   "file_extension": ".py",
   "mimetype": "text/x-python",
   "name": "python",
   "nbconvert_exporter": "python",
   "pygments_lexer": "ipython3",
   "version": "3.9.7"
  },
  "orig_nbformat": 4
 },
 "nbformat": 4,
 "nbformat_minor": 2
}
