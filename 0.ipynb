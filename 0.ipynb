{
 "cells": [
  {
   "cell_type": "markdown",
   "metadata": {},
   "source": [
    "# <b><span style=\"color: red\">2조.</span> 프랜차<span style=\"color: red\">2조</span>  </b>👨‍💻👨‍💻👩‍💻👨‍💻👨‍💻"
   ]
  },
  {
   "cell_type": "markdown",
   "metadata": {},
   "source": [
    "### <span style=\"color: lightskyblue\"><b>김동훈, 이동언, 이소영, 임낙현, 정희택</b></span>"
   ]
  },
  {
   "cell_type": "markdown",
   "metadata": {},
   "source": [
    "## <span style=\"color: mediumspringgreen\"><b>대주제</span> : 창업 지원을 위한 다각도 상권 분석</b>"
   ]
  },
  {
   "cell_type": "markdown",
   "metadata": {},
   "source": [
    "최근 코로나-오미크론의 치명율 약화와 확진자 수 대거 상승으로, With 코로나가 현실로 다가오고 있다. \n",
    "\n",
    "방역패스 및 거리두기가 종식되면, 음식점업을 비롯해 많은 양의 창업 수요가 발생할 것으로 생각된다. \n",
    "\n",
    "이러한 분위기를 바탕으로 최근 많은 창업지원 프로그램이 범람하고 있지만, 프로그램을 통한 창업 이후 폐업률은 높은 편이다. \n",
    "\n",
    "창업지원 프로그램의 성공률을 높이고, 창업 점포 및 기업의 생존률을 높이기 위해서 데이터에 기반한 창업 정보를 제공하고자 한다. "
   ]
  },
  {
   "cell_type": "markdown",
   "metadata": {},
   "source": [
    "### <b>1. 성별, 연령별, 전공별 창업 업종 분석</b>"
   ]
  },
  {
   "cell_type": "markdown",
   "metadata": {},
   "source": [
    "### <b>2. 부동산 공시지가와 업종별 프랜차이즈 입점과의 관계</b>"
   ]
  },
  {
   "cell_type": "markdown",
   "metadata": {},
   "source": [
    "### <b>3. 유동인구와 상권의 상관관계</b>"
   ]
  },
  {
   "cell_type": "markdown",
   "metadata": {},
   "source": [
    "### <b>4. 그린벨트와 지역 상권의 크기</b>"
   ]
  },
  {
   "cell_type": "markdown",
   "metadata": {},
   "source": [
    "### <b>5. 프랜차이즈 폐업률 vs 임대료</b>"
   ]
  },
  {
   "cell_type": "markdown",
   "metadata": {},
   "source": [
    "### <b>6. 지역별 프랜차이즈 VS 당뇨병 유병률 상관관계</b>"
   ]
  },
  {
   "cell_type": "markdown",
   "metadata": {},
   "source": [
    "![poster](./data/200w.gif)"
   ]
  }
 ],
 "metadata": {
  "interpreter": {
   "hash": "099c82bb4ace82ade8ea00d06692c6005c84f3239a96c9207fc6992d929102eb"
  },
  "kernelspec": {
   "display_name": "Python 3.8.8 ('base')",
   "language": "python",
   "name": "python3"
  },
  "language_info": {
   "name": "python",
   "version": "3.8.8"
  },
  "orig_nbformat": 4
 },
 "nbformat": 4,
 "nbformat_minor": 2
}
